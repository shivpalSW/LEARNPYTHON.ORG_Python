{
 "cells": [
  {
   "cell_type": "markdown",
   "id": "c6607c0a",
   "metadata": {},
   "source": [
    "# 12.Modules & Packages"
   ]
  },
  {
   "cell_type": "code",
   "execution_count": 1,
   "id": "79ca2f82",
   "metadata": {},
   "outputs": [],
   "source": [
    "# draw.py\n",
    "\n",
    "def draw_game():\n",
    "    ...\n",
    "\n",
    "def clear_screen(screen):\n",
    "    ..."
   ]
  },
  {
   "cell_type": "code",
   "execution_count": 2,
   "id": "9a677fbd",
   "metadata": {},
   "outputs": [
    {
     "ename": "ModuleNotFoundError",
     "evalue": "No module named 'draw'",
     "output_type": "error",
     "traceback": [
      "\u001b[1;31m---------------------------------------------------------------------------\u001b[0m",
      "\u001b[1;31mModuleNotFoundError\u001b[0m                       Traceback (most recent call last)",
      "\u001b[1;32m~\\AppData\\Local\\Temp/ipykernel_19664/1846252487.py\u001b[0m in \u001b[0;36m<module>\u001b[1;34m\u001b[0m\n\u001b[0;32m      1\u001b[0m \u001b[1;31m# game.py\u001b[0m\u001b[1;33m\u001b[0m\u001b[1;33m\u001b[0m\u001b[1;33m\u001b[0m\u001b[0m\n\u001b[0;32m      2\u001b[0m \u001b[1;31m# import the draw module\u001b[0m\u001b[1;33m\u001b[0m\u001b[1;33m\u001b[0m\u001b[1;33m\u001b[0m\u001b[0m\n\u001b[1;32m----> 3\u001b[1;33m \u001b[1;32mimport\u001b[0m \u001b[0mdraw\u001b[0m\u001b[1;33m\u001b[0m\u001b[1;33m\u001b[0m\u001b[0m\n\u001b[0m\u001b[0;32m      4\u001b[0m \u001b[1;33m\u001b[0m\u001b[0m\n\u001b[0;32m      5\u001b[0m \u001b[1;32mdef\u001b[0m \u001b[0mplay_game\u001b[0m\u001b[1;33m(\u001b[0m\u001b[1;33m)\u001b[0m\u001b[1;33m:\u001b[0m\u001b[1;33m\u001b[0m\u001b[1;33m\u001b[0m\u001b[0m\n",
      "\u001b[1;31mModuleNotFoundError\u001b[0m: No module named 'draw'"
     ]
    }
   ],
   "source": [
    "# game.py\n",
    "# import the draw module\n",
    "import draw\n",
    "\n",
    "def play_game():\n",
    "    ...\n",
    "\n",
    "def main():\n",
    "    result = play_game()\n",
    "    draw.draw_game(result)\n",
    "\n",
    "# this means that if this script is executed, then \n",
    "# main() will be executed\n",
    "if __name__ == '__main__':\n",
    "    main()"
   ]
  },
  {
   "cell_type": "raw",
   "id": "7732554f",
   "metadata": {},
   "source": [
    "Importing module objects to the current namespace"
   ]
  },
  {
   "cell_type": "code",
   "execution_count": null,
   "id": "b37f3398",
   "metadata": {},
   "outputs": [],
   "source": [
    "# game.py\n",
    "# import the draw module\n",
    "from draw import draw_game\n",
    "\n",
    "def main():\n",
    "    result = play_game()\n",
    "    draw_game(result)"
   ]
  },
  {
   "cell_type": "code",
   "execution_count": null,
   "id": "63b26ce0",
   "metadata": {},
   "outputs": [],
   "source": [
    "Importing all objects from a module"
   ]
  },
  {
   "cell_type": "code",
   "execution_count": null,
   "id": "83745f01",
   "metadata": {},
   "outputs": [],
   "source": [
    "# game.py\n",
    "# import the draw module\n",
    "from draw import *\n",
    "\n",
    "def main():\n",
    "    result = play_game()\n",
    "    draw_game(result)"
   ]
  },
  {
   "cell_type": "code",
   "execution_count": null,
   "id": "0d8a085b",
   "metadata": {},
   "outputs": [],
   "source": [
    "Custom import name"
   ]
  },
  {
   "cell_type": "code",
   "execution_count": null,
   "id": "8d0acad9",
   "metadata": {},
   "outputs": [],
   "source": [
    "# game.py\n",
    "# import the draw module\n",
    "if visual_mode:\n",
    "    # in visual mode, we draw using graphics\n",
    "    import draw_visual as draw\n",
    "else:\n",
    "    # in textual mode, we print out text\n",
    "    import draw_textual as draw\n",
    "\n",
    "def main():\n",
    "    result = play_game()\n",
    "    # this can either be visual or textual depending on visual_mode\n",
    "    draw.draw_game(result)"
   ]
  },
  {
   "cell_type": "code",
   "execution_count": null,
   "id": "576a921e",
   "metadata": {},
   "outputs": [],
   "source": [
    "Module initialization"
   ]
  },
  {
   "cell_type": "code",
   "execution_count": null,
   "id": "4f63168f",
   "metadata": {},
   "outputs": [],
   "source": [
    "# draw.py\n",
    "\n",
    "def draw_game():\n",
    "    # when clearing the screen we can use the main screen object initialized in this module\n",
    "    clear_screen(main_screen)\n",
    "    ...\n",
    "\n",
    "def clear_screen(screen):\n",
    "    ...\n",
    "\n",
    "class Screen():\n",
    "    ...\n",
    "\n",
    "# initialize main_screen as a singleton\n",
    "main_screen = Screen()"
   ]
  },
  {
   "cell_type": "raw",
   "id": "0ee56d04",
   "metadata": {},
   "source": [
    "Extending module load path"
   ]
  },
  {
   "cell_type": "code",
   "execution_count": null,
   "id": "8d03c972",
   "metadata": {},
   "outputs": [],
   "source": [
    "PYTHONPATH=/foo python game.py"
   ]
  },
  {
   "cell_type": "code",
   "execution_count": null,
   "id": "da247252",
   "metadata": {},
   "outputs": [],
   "source": [
    "sys.path.append(\"/foo\")"
   ]
  },
  {
   "cell_type": "raw",
   "id": "7d391f8f",
   "metadata": {},
   "source": [
    "Exploring built-in modules"
   ]
  },
  {
   "cell_type": "code",
   "execution_count": null,
   "id": "8522d481",
   "metadata": {},
   "outputs": [],
   "source": [
    "# import the library\n",
    "import urllib\n",
    "\n",
    "# use it\n",
    "urllib.urlopen(...)"
   ]
  },
  {
   "cell_type": "code",
   "execution_count": null,
   "id": "46aade39",
   "metadata": {},
   "outputs": [],
   "source": [
    ">>> import urllib\n",
    ">>> dir(urllib)"
   ]
  },
  {
   "cell_type": "raw",
   "id": "c2479521",
   "metadata": {},
   "source": [
    "Writing packages"
   ]
  },
  {
   "cell_type": "code",
   "execution_count": null,
   "id": "135dceca",
   "metadata": {},
   "outputs": [],
   "source": [
    "import foo.bar"
   ]
  },
  {
   "cell_type": "code",
   "execution_count": null,
   "id": "29b4aebc",
   "metadata": {},
   "outputs": [],
   "source": [
    "from foo import bar"
   ]
  },
  {
   "cell_type": "code",
   "execution_count": null,
   "id": "c614ef81",
   "metadata": {},
   "outputs": [],
   "source": [
    "__init__.py:\n",
    "\n",
    "__all__ = [\"bar\"]"
   ]
  },
  {
   "cell_type": "markdown",
   "id": "b936424e",
   "metadata": {},
   "source": [
    "# Exercise"
   ]
  },
  {
   "cell_type": "raw",
   "id": "e48eb382",
   "metadata": {},
   "source": [
    "In this exercise, print an alphabetically sorted list of all the functions in the re module containing the word find."
   ]
  },
  {
   "cell_type": "code",
   "execution_count": 4,
   "id": "61ff394d",
   "metadata": {},
   "outputs": [
    {
     "name": "stdout",
     "output_type": "stream",
     "text": [
      "['findall', 'finditer']\n"
     ]
    }
   ],
   "source": [
    "import re\n",
    "\n",
    "# Your code goes here\n",
    "find_members = []\n",
    "\n",
    "for member  in dir(re):\n",
    "    if \"find\" in member:\n",
    "        find_members.append(member)\n",
    "        \n",
    "print(sorted(find_members))\n",
    "        "
   ]
  },
  {
   "cell_type": "code",
   "execution_count": null,
   "id": "99edb09f",
   "metadata": {},
   "outputs": [],
   "source": []
  }
 ],
 "metadata": {
  "kernelspec": {
   "display_name": "Python 3 (ipykernel)",
   "language": "python",
   "name": "python3"
  },
  "language_info": {
   "codemirror_mode": {
    "name": "ipython",
    "version": 3
   },
   "file_extension": ".py",
   "mimetype": "text/x-python",
   "name": "python",
   "nbconvert_exporter": "python",
   "pygments_lexer": "ipython3",
   "version": "3.8.12"
  }
 },
 "nbformat": 4,
 "nbformat_minor": 5
}
