{
 "cells": [
  {
   "cell_type": "markdown",
   "id": "3bdecfcc",
   "metadata": {},
   "source": [
    "# SET DATATYPE"
   ]
  },
  {
   "cell_type": "code",
   "execution_count": 4,
   "id": "b6edd83e",
   "metadata": {},
   "outputs": [
    {
     "data": {
      "text/plain": [
       "'E:\\\\VELOCITY_DSA\\\\PYTHON_CLASS\\\\JUPYTER\\\\Practice\\\\PYTHON_1\\\\LEARNPYTHON.ORG'"
      ]
     },
     "execution_count": 4,
     "metadata": {},
     "output_type": "execute_result"
    }
   ],
   "source": [
    "import os\n",
    "os.getcwd()"
   ]
  },
  {
   "cell_type": "raw",
   "id": "bcd15d03",
   "metadata": {},
   "source": [
    "Sets are lists with no duplicate entries. Let's say you want to collect a list of words used in a paragraph:"
   ]
  },
  {
   "cell_type": "code",
   "execution_count": 5,
   "id": "4e8b3c2b",
   "metadata": {},
   "outputs": [
    {
     "name": "stdout",
     "output_type": "stream",
     "text": [
      "{'name', 'Eric', 'my', 'My', 'and', 'is'}\n"
     ]
    }
   ],
   "source": [
    "print(set(\"My name is Eric and Eric is my name\".split()))"
   ]
  },
  {
   "cell_type": "raw",
   "id": "5906b824",
   "metadata": {},
   "source": [
    "This will print out a list containing \"my\", \"name\", \"is\", \"Eric\", and finally \"and\". Since the rest of the sentence uses words which are already in the set, they are not inserted twice.\n",
    "\n",
    "Sets are a powerful tool in Python since they have the ability to calculate differences and intersections between other sets. For example, say you have a list of participants in events A and B"
   ]
  },
  {
   "cell_type": "code",
   "execution_count": 6,
   "id": "c77cf641",
   "metadata": {},
   "outputs": [
    {
     "name": "stdout",
     "output_type": "stream",
     "text": [
      "{'Eric', 'John', 'jake'}\n",
      "{'Jill', 'John'}\n"
     ]
    }
   ],
   "source": [
    "a= set(['jake','John','Eric'])\n",
    "print(a)\n",
    "b=set(['John','Jill'])\n",
    "print(b)"
   ]
  },
  {
   "cell_type": "code",
   "execution_count": 7,
   "id": "01418922",
   "metadata": {},
   "outputs": [
    {
     "name": "stdout",
     "output_type": "stream",
     "text": [
      "{'Amit', 'Akshay', 'Shiv'}\n",
      "['Krishna', 'Ganesh', 'Mahesh']\n"
     ]
    }
   ],
   "source": [
    "a=set(['Amit','Shiv','Akshay'])\n",
    "print(a)\n",
    "b=(['Krishna','Ganesh','Mahesh'])\n",
    "print(b)"
   ]
  },
  {
   "cell_type": "raw",
   "id": "b7f1a52a",
   "metadata": {},
   "source": [
    "To find out which members attended both events, you may use the \"intersection\" method:"
   ]
  },
  {
   "cell_type": "code",
   "execution_count": 11,
   "id": "d8ffa101",
   "metadata": {},
   "outputs": [
    {
     "name": "stdout",
     "output_type": "stream",
     "text": [
      "{'John'}\n",
      "{'John'}\n"
     ]
    }
   ],
   "source": [
    "a= set(['Jake','John','Eric'])\n",
    "b= set(['John','Jill'])\n",
    "\n",
    "print(a.intersection(b))\n",
    "print(b.intersection(a))"
   ]
  },
  {
   "cell_type": "code",
   "execution_count": 15,
   "id": "97e65ccf",
   "metadata": {},
   "outputs": [
    {
     "name": "stdout",
     "output_type": "stream",
     "text": [
      "{'John'} and {'John'}\n"
     ]
    }
   ],
   "source": [
    "a= {'Jake','John','Eric'}\n",
    "b= {'John','Jill'}\n",
    "\n",
    "C= a.intersection(b)\n",
    "D= b.intersection(a)\n",
    "print(C,\"and\", D)"
   ]
  },
  {
   "cell_type": "raw",
   "id": "6983ab6c",
   "metadata": {},
   "source": [
    "To find out which members attended only one of the events, use the \"symmetric_difference\" method:"
   ]
  },
  {
   "cell_type": "code",
   "execution_count": 17,
   "id": "9e933677",
   "metadata": {},
   "outputs": [
    {
     "name": "stdout",
     "output_type": "stream",
     "text": [
      "{'Jill', 'Eric', 'Jake'}\n",
      "{'Jill', 'Eric', 'Jake'}\n"
     ]
    }
   ],
   "source": [
    "a= set([\"Jake\",\"John\",\"Eric\"])\n",
    "b= set([\"John\",\"Jill\"])\n",
    "\n",
    "print(a.symmetric_difference(b))\n",
    "print(b.symmetric_difference(a))"
   ]
  },
  {
   "cell_type": "raw",
   "id": "46396c24",
   "metadata": {},
   "source": [
    "To find out which members attended only one event and not the other, use the \"difference\" method:"
   ]
  },
  {
   "cell_type": "code",
   "execution_count": 18,
   "id": "1651af75",
   "metadata": {},
   "outputs": [
    {
     "name": "stdout",
     "output_type": "stream",
     "text": [
      "{'Eric', 'Jake'}\n",
      "{'Jill'}\n"
     ]
    }
   ],
   "source": [
    "a= set([\"Jake\",\"John\",\"Eric\"])\n",
    "b= set([\"John\",\"Jill\"])\n",
    "\n",
    "print(a.difference(b))\n",
    "print(b.difference(a))"
   ]
  },
  {
   "cell_type": "raw",
   "id": "b3eb9fcc",
   "metadata": {},
   "source": [
    "To receive a list of all participants, use the \"union\" method:"
   ]
  },
  {
   "cell_type": "code",
   "execution_count": 24,
   "id": "055fae26",
   "metadata": {},
   "outputs": [
    {
     "name": "stdout",
     "output_type": "stream",
     "text": [
      "{'Eric', 'Jake', 'John', 'Jill'}\n"
     ]
    }
   ],
   "source": [
    "a = set([\"Jake\", \"John\", \"Eric\"])\n",
    "b = set([\"John\", \"Jill\"])\n",
    "\n",
    "print(a.union(b))"
   ]
  },
  {
   "cell_type": "raw",
   "id": "f854077e",
   "metadata": {},
   "source": [
    "In the exercise below, use the given lists to print out a set containing all the participants from event A which did not attend event B."
   ]
  },
  {
   "cell_type": "code",
   "execution_count": 30,
   "id": "2807e28d",
   "metadata": {},
   "outputs": [
    {
     "name": "stdout",
     "output_type": "stream",
     "text": [
      "{'Eric', 'Jake'}\n"
     ]
    }
   ],
   "source": [
    "a = set([\"Jake\", \"John\", \"Eric\"])\n",
    "b = set([\"John\", \"Jill\"])\n",
    "\n",
    "A= a.difference(b)\n",
    "print(A)"
   ]
  },
  {
   "cell_type": "code",
   "execution_count": null,
   "id": "2419986a",
   "metadata": {},
   "outputs": [],
   "source": []
  }
 ],
 "metadata": {
  "kernelspec": {
   "display_name": "Python 3 (ipykernel)",
   "language": "python",
   "name": "python3"
  },
  "language_info": {
   "codemirror_mode": {
    "name": "ipython",
    "version": 3
   },
   "file_extension": ".py",
   "mimetype": "text/x-python",
   "name": "python",
   "nbconvert_exporter": "python",
   "pygments_lexer": "ipython3",
   "version": "3.8.12"
  }
 },
 "nbformat": 4,
 "nbformat_minor": 5
}
