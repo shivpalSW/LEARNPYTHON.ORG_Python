{
 "cells": [
  {
   "cell_type": "markdown",
   "id": "484ca3a6",
   "metadata": {},
   "source": [
    "# 14. PANDAS Basics"
   ]
  },
  {
   "cell_type": "markdown",
   "id": "fd3ecce3",
   "metadata": {},
   "source": [
    "https://www.learnpython.org/en/Pandas_Basics\n"
   ]
  },
  {
   "cell_type": "code",
   "execution_count": 4,
   "id": "a94b730d",
   "metadata": {},
   "outputs": [],
   "source": [
    "import pandas as pd"
   ]
  },
  {
   "cell_type": "raw",
   "id": "030bb3bf",
   "metadata": {},
   "source": [
    "Pandas is a high-level data manipulation tool developed by Wes McKinney. It is built on the Numpy package and its key data structure is called the DataFrame. DataFrames allow you to store and manipulate tabular data in rows of observations and columns of variables"
   ]
  },
  {
   "cell_type": "code",
   "execution_count": 5,
   "id": "b2bcd7e7",
   "metadata": {
    "scrolled": true
   },
   "outputs": [
    {
     "name": "stdout",
     "output_type": "stream",
     "text": [
      "        country    capital    area  population\n",
      "0        Brazil   Brasilia   8.516      200.40\n",
      "1        Russia     Moscow  17.100      143.50\n",
      "2         India  New Dehli   3.286     1252.00\n",
      "3         China    Beijing   9.597     1357.00\n",
      "4  South Africa   Pretoria   1.221       52.98\n"
     ]
    }
   ],
   "source": [
    "dict={\"country\":[\"Brazil\", \"Russia\", \"India\", \"China\", \"South Africa\"],\n",
    "    \"capital\":  [\"Brasilia\", \"Moscow\", \"New Dehli\", \"Beijing\", \"Pretoria\"],\n",
    "    \"area\": [8.516, 17.10, 3.286, 9.597, 1.221],\n",
    "    'population':[200.4, 143.5, 1252, 1357, 52.98] }\n",
    "\n",
    "brics = pd.DataFrame(dict)\n",
    "print(brics)"
   ]
  },
  {
   "cell_type": "code",
   "execution_count": 17,
   "id": "48a3b183",
   "metadata": {},
   "outputs": [],
   "source": [
    "brics.to_csv('Bricsnations.csv')  # exporing csv file into localpath"
   ]
  },
  {
   "cell_type": "raw",
   "id": "3160a915",
   "metadata": {},
   "source": [
    "As you can see with the new brics DataFrame, Pandas has assigned a key for each country as the numerical values 0 through 4. If you would like to have different index values, say, the two letter country code, you can do that easily as well."
   ]
  },
  {
   "cell_type": "code",
   "execution_count": 6,
   "id": "b73dbc51",
   "metadata": {},
   "outputs": [
    {
     "name": "stdout",
     "output_type": "stream",
     "text": [
      "         country    capital    area  population\n",
      "BR        Brazil   Brasilia   8.516      200.40\n",
      "RU        Russia     Moscow  17.100      143.50\n",
      "IN         India  New Dehli   3.286     1252.00\n",
      "CH         China    Beijing   9.597     1357.00\n",
      "SA  South Africa   Pretoria   1.221       52.98\n"
     ]
    }
   ],
   "source": [
    "# set the index for brics\n",
    "\n",
    "brics.index=['BR','RU','IN','CH','SA']\n",
    "\n",
    "# Print outbrics with new index values\n",
    "\n",
    "print(brics)\n"
   ]
  },
  {
   "cell_type": "raw",
   "id": "3842e092",
   "metadata": {},
   "source": [
    "Another way to create a DataFrame is by importing a csv file using Pandas. Now, the csv cars.csv is stored and can be imported using pd.read_csv:"
   ]
  },
  {
   "cell_type": "code",
   "execution_count": 18,
   "id": "a2378d36",
   "metadata": {},
   "outputs": [
    {
     "name": "stdout",
     "output_type": "stream",
     "text": [
      "  Unnamed: 0       country    capital    area  population\n",
      "0         BR        Brazil   Brasilia   8.516      200.40\n",
      "1         RU        Russia     Moscow  17.100      143.50\n",
      "2         IN         India  New Dehli   3.286     1252.00\n",
      "3         CH         China    Beijing   9.597     1357.00\n",
      "4         SA  South Africa   Pretoria   1.221       52.98\n"
     ]
    }
   ],
   "source": [
    "# importing the dataframe\n",
    "\n",
    "brics= pd.read_csv('Bricsnations.csv')\n",
    "print(brics)"
   ]
  },
  {
   "cell_type": "markdown",
   "id": "079b4c64",
   "metadata": {},
   "source": [
    "## Indexing Dataframe:"
   ]
  },
  {
   "cell_type": "raw",
   "id": "556161e7",
   "metadata": {},
   "source": [
    "There are several ways to index a Pandas DataFrame. One of the easiest ways to do this is by using square bracket notation.\n",
    "\n",
    "In the example below, you can use square brackets to select one column of the brics DataFrame. You can either use a single bracket or a double bracket. The single bracket will output a Pandas Series, while a double bracket will output a Pandas DataFrame."
   ]
  },
  {
   "cell_type": "code",
   "execution_count": 30,
   "id": "45da52cd",
   "metadata": {},
   "outputs": [
    {
     "name": "stdout",
     "output_type": "stream",
     "text": [
      "         country    capital    area  population\n",
      "BR        Brazil   Brasilia   8.516      200.40\n",
      "RU        Russia     Moscow  17.100      143.50\n",
      "IN         India  New Dehli   3.286     1252.00\n",
      "CH         China    Beijing   9.597     1357.00\n",
      "SA  South Africa   Pretoria   1.221       52.98\n",
      "-----------------------\n",
      "         country\n",
      "BR        Brazil\n",
      "RU        Russia\n",
      "IN         India\n",
      "CH         China\n",
      "SA  South Africa\n",
      "------------------------\n",
      "         country    capital\n",
      "BR        Brazil   Brasilia\n",
      "RU        Russia     Moscow\n",
      "IN         India  New Dehli\n",
      "CH         China    Beijing\n",
      "SA  South Africa   Pretoria\n"
     ]
    }
   ],
   "source": [
    "## import pandas and brics.csv\n",
    "\n",
    "import pandas as pd \n",
    "\n",
    "brics=pd.read_csv('Bricsnations.csv',index_col=0)\n",
    "\n",
    "print(brics)\n",
    "\n",
    "print(\"-----------------------\")\n",
    "# print out country column as pandas series\n",
    "\n",
    "print(brics[['country']])\n",
    "\n",
    "print('------------------------')\n",
    "#print out Dataframe with country and columns\n",
    "\n",
    "print(brics[['country','capital']])\n"
   ]
  },
  {
   "cell_type": "markdown",
   "id": "b76fe315",
   "metadata": {},
   "source": [
    "##### Square brackets can also be used to access observations (rows) from a DataFrame. For example:"
   ]
  },
  {
   "cell_type": "code",
   "execution_count": 40,
   "id": "0c2ba207",
   "metadata": {},
   "outputs": [
    {
     "name": "stdout",
     "output_type": "stream",
     "text": [
      "   country    capital    area  population\n",
      "BR  Brazil   Brasilia   8.516       200.4\n",
      "RU  Russia     Moscow  17.100       143.5\n",
      "IN   India  New Dehli   3.286      1252.0\n",
      "---------\n",
      "         country   capital   area  population\n",
      "CH         China   Beijing  9.597     1357.00\n",
      "SA  South Africa  Pretoria  1.221       52.98\n"
     ]
    }
   ],
   "source": [
    "import pandas as pd \n",
    "brics = pd.read_csv('Bricsnations.csv',index_col=0)\n",
    "\n",
    "#print out first 3 observations\n",
    "\n",
    "print(brics[ 0:3 ])\n",
    "\n",
    "print('---------')\n",
    "# to prit our 4th and 5th observation\n",
    "\n",
    "print(brics[3:5])"
   ]
  },
  {
   "cell_type": "markdown",
   "id": "a992c946",
   "metadata": {},
   "source": [
    "#### You can also use loc and iloc to perform just about any data selection operation. loc is label-based, which means that you have to specify rows and columns based on their row and column labels. iloc is integer index based, so you have to specify rows and columns by their integer index like you did in the previous exercise.\n",
    "\n"
   ]
  },
  {
   "cell_type": "code",
   "execution_count": 51,
   "id": "a46ef328",
   "metadata": {},
   "outputs": [
    {
     "name": "stdout",
     "output_type": "stream",
     "text": [
      "country           India\n",
      "capital       New Dehli\n",
      "area              3.286\n",
      "population       1252.0\n",
      "Name: IN, dtype: object\n",
      "-------------\n",
      "   country    capital   area  population\n",
      "IN   India  New Dehli  3.286      1252.0\n",
      "CH   China    Beijing  9.597      1357.0\n"
     ]
    }
   ],
   "source": [
    "import pandas as pd \n",
    "\n",
    "brics= pd.read_csv('Bricsnations.csv',index_col=0)\n",
    "\n",
    "# printout observation for INDIA\n",
    "\n",
    "print(brics.iloc[2])\n",
    "\n",
    "print(\"-------------\")\n",
    "\n",
    "print(brics.loc[['IN','CH']])"
   ]
  },
  {
   "cell_type": "code",
   "execution_count": null,
   "id": "3c2eb36d",
   "metadata": {},
   "outputs": [],
   "source": []
  }
 ],
 "metadata": {
  "kernelspec": {
   "display_name": "Python 3 (ipykernel)",
   "language": "python",
   "name": "python3"
  },
  "language_info": {
   "codemirror_mode": {
    "name": "ipython",
    "version": 3
   },
   "file_extension": ".py",
   "mimetype": "text/x-python",
   "name": "python",
   "nbconvert_exporter": "python",
   "pygments_lexer": "ipython3",
   "version": "3.8.12"
  }
 },
 "nbformat": 4,
 "nbformat_minor": 5
}
