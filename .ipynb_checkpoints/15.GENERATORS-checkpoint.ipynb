{
 "cells": [
  {
   "cell_type": "markdown",
   "id": "9b07330f",
   "metadata": {},
   "source": [
    "# 15.GENERATORS"
   ]
  },
  {
   "cell_type": "raw",
   "id": "9b43bec4",
   "metadata": {},
   "source": [
    "Generators are very easy to implement, but a bit difficult to understand.\n",
    "\n",
    "Generators are used to create iterators, but with a different approach. Generators are simple functions which return an iterable set of items, one at a time, in a special way.\n",
    "\n",
    "When an iteration over a set of item starts using the for statement, the generator is run. Once the generator's function code reaches a \"yield\" statement, the generator yields its execution back to the for loop, returning a new value from the set. The generator function can generate as many values (possibly infinite) as it wants, yielding each one in its turn.\n",
    "\n",
    "Here is a simple example of a generator function which returns 7 random integers:"
   ]
  },
  {
   "cell_type": "code",
   "execution_count": 26,
   "id": "97fce7b4",
   "metadata": {},
   "outputs": [
    {
     "name": "stdout",
     "output_type": "stream",
     "text": [
      "And the next number is:.....33!\n",
      "And the next number is:.....12!\n",
      "And the next number is:.....6!\n",
      "And the next number is:.....17!\n",
      "And the next number is:.....33!\n",
      "And the next number is:.....25!\n",
      "And the next number is:.....14!\n"
     ]
    }
   ],
   "source": [
    "import random\n",
    "\n",
    "def lottery():\n",
    "    # it returns  6 numbers betwen 1 & 40\n",
    "\n",
    "    for i in range(6):\n",
    "        yield random.randint(1,40)\n",
    "        \n",
    "    # returns 7th number between 1 & 15\n",
    "    yield random.randint(1,15)\n",
    "        \n",
    "for random_number in lottery():\n",
    "        print('And the next number is:.....%d!'%(random_number))"
   ]
  },
  {
   "cell_type": "markdown",
   "id": "9023917b",
   "metadata": {},
   "source": [
    "# Exercise"
   ]
  },
  {
   "cell_type": "raw",
   "id": "bc9336d0",
   "metadata": {},
   "source": [
    "Write a generator function which returns the Fibonacci series. They are calculated using the following formula: The first two numbers of the series is always equal to 1, and each consecutive number returned is the sum of the last two numbers.\n",
    "\n",
    "Hint: Can you use only two variables in the generator function? Remember that assignments can be done simultaneously. The code"
   ]
  },
  {
   "cell_type": "code",
   "execution_count": 32,
   "id": "565b3245",
   "metadata": {},
   "outputs": [
    {
     "name": "stdout",
     "output_type": "stream",
     "text": [
      "2 1\n"
     ]
    }
   ],
   "source": [
    "a= 1\n",
    "b=2\n",
    "a,b= b,a \n",
    "print(a,b)\n",
    "\n"
   ]
  },
  {
   "cell_type": "code",
   "execution_count": 37,
   "id": "02f7aedf",
   "metadata": {},
   "outputs": [
    {
     "name": "stdout",
     "output_type": "stream",
     "text": [
      "Good, The fib function is a generator.\n",
      "1\n",
      "1\n",
      "2\n",
      "3\n",
      "5\n",
      "8\n",
      "13\n",
      "21\n",
      "34\n",
      "55\n"
     ]
    }
   ],
   "source": [
    "# fill in this function\n",
    "def fib():\n",
    "    a, b = 1, 1\n",
    "    while 1:\n",
    "        yield a\n",
    "        a, b = b, a + b\n",
    "\n",
    "# testing code\n",
    "import types\n",
    "if type(fib()) == types.GeneratorType:\n",
    "    print(\"Good, The fib function is a generator.\")\n",
    "\n",
    "    counter = 0\n",
    "    for n in fib():\n",
    "        print(n)\n",
    "        counter += 1\n",
    "        if counter == 10:\n",
    "            break"
   ]
  },
  {
   "cell_type": "code",
   "execution_count": null,
   "id": "0968210f",
   "metadata": {},
   "outputs": [],
   "source": []
  },
  {
   "cell_type": "code",
   "execution_count": null,
   "id": "fd1ce5ae",
   "metadata": {},
   "outputs": [],
   "source": []
  },
  {
   "cell_type": "code",
   "execution_count": null,
   "id": "f39f80c9",
   "metadata": {},
   "outputs": [],
   "source": []
  },
  {
   "cell_type": "code",
   "execution_count": null,
   "id": "f98ab563",
   "metadata": {},
   "outputs": [],
   "source": []
  }
 ],
 "metadata": {
  "kernelspec": {
   "display_name": "Python 3 (ipykernel)",
   "language": "python",
   "name": "python3"
  },
  "language_info": {
   "codemirror_mode": {
    "name": "ipython",
    "version": 3
   },
   "file_extension": ".py",
   "mimetype": "text/x-python",
   "name": "python",
   "nbconvert_exporter": "python",
   "pygments_lexer": "ipython3",
   "version": "3.8.12"
  }
 },
 "nbformat": 4,
 "nbformat_minor": 5
}
