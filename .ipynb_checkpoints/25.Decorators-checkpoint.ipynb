{
 "cells": [
  {
   "cell_type": "markdown",
   "id": "dd84dad4",
   "metadata": {},
   "source": [
    "# 25.Decorators"
   ]
  },
  {
   "cell_type": "raw",
   "id": "8e35e606",
   "metadata": {},
   "source": [
    "Decorators allow you to make simple modifications to callable objects like functions, methods, or classes. We shall deal with functions for this tutorial. The syntax"
   ]
  },
  {
   "cell_type": "code",
   "execution_count": null,
   "id": "d0b60ec0",
   "metadata": {},
   "outputs": [],
   "source": [
    "@decorator\n",
    "def functions(arg):\n",
    "    return \"value\""
   ]
  },
  {
   "cell_type": "code",
   "execution_count": null,
   "id": "9ed3c6b1",
   "metadata": {},
   "outputs": [],
   "source": [
    "Is equivalent to:"
   ]
  },
  {
   "cell_type": "code",
   "execution_count": null,
   "id": "42beaef3",
   "metadata": {},
   "outputs": [],
   "source": [
    "def function(arg):\n",
    "    return \"value\"\n",
    "function = decorator(function) # this passes the function to the decorator, \n",
    "#and reassigns it to the functions"
   ]
  },
  {
   "cell_type": "raw",
   "id": "3bc7447b",
   "metadata": {},
   "source": [
    "As you may have seen, a decorator is just another function which takes a functions and returns one. For example we could do this:"
   ]
  },
  {
   "cell_type": "code",
   "execution_count": null,
   "id": "f5750269",
   "metadata": {},
   "outputs": [],
   "source": [
    "def repeater(old_function):\n",
    "    def new_function(*args, **kwds): # See learnpython.org/en/Multiple%20Function%20Arguments for how *args and **kwds works\n",
    "        old_function(*args, **kwds) # we run the old function\n",
    "        old_function(*args, **kwds) # we do it twice\n",
    "    return new_function # we have to return the new_function, or it wouldn't reassign it to the value"
   ]
  },
  {
   "cell_type": "raw",
   "id": "3edac04b",
   "metadata": {},
   "source": [
    "This would make a function repeat twice."
   ]
  },
  {
   "cell_type": "code",
   "execution_count": null,
   "id": "03a060c7",
   "metadata": {},
   "outputs": [],
   "source": [
    "@repeater\n",
    "\n",
    "def multiply(num1, num2):\n",
    "    print(num1 * num2)\n",
    "\n",
    "multiply(2, 3)"
   ]
  },
  {
   "cell_type": "raw",
   "id": "6284c72c",
   "metadata": {},
   "source": [
    "You can also make it change the output"
   ]
  },
  {
   "cell_type": "code",
   "execution_count": 4,
   "id": "80db83a0",
   "metadata": {},
   "outputs": [],
   "source": [
    "def double_out(old_function):\n",
    "    def new_function(*args, **kwds):\n",
    "        return 2 * old_function(*args, **kwds) # modify the return value\n",
    "    return new_function"
   ]
  },
  {
   "cell_type": "raw",
   "id": "5d869afd",
   "metadata": {},
   "source": [
    "change input"
   ]
  },
  {
   "cell_type": "code",
   "execution_count": 5,
   "id": "4b7b55af",
   "metadata": {},
   "outputs": [],
   "source": [
    "def double_Ii(old_function):\n",
    "    def new_function(arg): # only works if the old function has one argument\n",
    "        return old_function(arg * 2) # modify the argument passed\n",
    "    return new_function"
   ]
  },
  {
   "cell_type": "raw",
   "id": "0c13b328",
   "metadata": {},
   "source": [
    "and do checking."
   ]
  },
  {
   "cell_type": "code",
   "execution_count": 6,
   "id": "dd36c0e0",
   "metadata": {},
   "outputs": [],
   "source": [
    "def check(old_function):\n",
    "    def new_function(arg):\n",
    "        if arg < 0: raise (ValueError, \"Negative Argument\") # This causes an error, which is better than it doing the wrong thing\n",
    "        old_function(arg)\n",
    "    return new_function"
   ]
  },
  {
   "cell_type": "raw",
   "id": "c578429e",
   "metadata": {},
   "source": [
    "Let's say you want to multiply the output by a variable amount. You could define the decorator and use it as follows:"
   ]
  },
  {
   "cell_type": "code",
   "execution_count": 7,
   "id": "d7dad51b",
   "metadata": {},
   "outputs": [
    {
     "data": {
      "text/plain": [
       "15"
      ]
     },
     "execution_count": 7,
     "metadata": {},
     "output_type": "execute_result"
    }
   ],
   "source": [
    "def multiply(multiplier):\n",
    "    def multiply_generator(old_function):\n",
    "        def new_function(*args, **kwds):\n",
    "            return multiplier * old_function(*args, **kwds)\n",
    "        return new_function\n",
    "    return multiply_generator # it returns the new generator\n",
    "\n",
    "# Usage\n",
    "@multiply(3) # multiply is not a generator, but multiply(3) is\n",
    "def return_num(num):\n",
    "    return num\n",
    "\n",
    "# Now return_num is decorated and reassigned into itself\n",
    "return_num(5) # should return 15"
   ]
  },
  {
   "cell_type": "code",
   "execution_count": null,
   "id": "22f2e545",
   "metadata": {},
   "outputs": [],
   "source": [
    "Exercise"
   ]
  },
  {
   "cell_type": "raw",
   "id": "fc6bf91f",
   "metadata": {},
   "source": [
    "Make a decorator factory which returns a decorator that decorates functions with one argument. The factory should take one argument, a type, and then returns a decorator that makes function should check if the input is the correct type. If it is wrong, it should print(\"Bad Type\") (In reality, it should raise an error, but error raising isn't in this tutorial). Look at the tutorial code and expected output to see what it is if you are confused (I know I would be.) Using isinstance(object, type_of_object) or type(object) might help."
   ]
  },
  {
   "cell_type": "code",
   "execution_count": 8,
   "id": "48bc0e74",
   "metadata": {},
   "outputs": [
    {
     "name": "stdout",
     "output_type": "stream",
     "text": [
      "4\n",
      "Bad Type\n",
      "H\n",
      "Bad Type\n"
     ]
    }
   ],
   "source": [
    "def type_check(correct_type):\n",
    "    def check(old_function):\n",
    "        def new_function(arg):\n",
    "            if (isinstance(arg, correct_type)):\n",
    "                return old_function(arg)\n",
    "            else:\n",
    "                print(\"Bad Type\")\n",
    "        return new_function\n",
    "    return check\n",
    "\n",
    "@type_check(int)\n",
    "def times2(num):\n",
    "    return num*2\n",
    "\n",
    "print(times2(2))\n",
    "times2('Not A Number')\n",
    "\n",
    "@type_check(str)\n",
    "def first_letter(word):\n",
    "    return word[0]\n",
    "\n",
    "print(first_letter('Hello World'))\n",
    "first_letter(['Not', 'A', 'String'])"
   ]
  },
  {
   "cell_type": "code",
   "execution_count": null,
   "id": "50645ce7",
   "metadata": {},
   "outputs": [],
   "source": []
  }
 ],
 "metadata": {
  "kernelspec": {
   "display_name": "Python 3 (ipykernel)",
   "language": "python",
   "name": "python3"
  },
  "language_info": {
   "codemirror_mode": {
    "name": "ipython",
    "version": 3
   },
   "file_extension": ".py",
   "mimetype": "text/x-python",
   "name": "python",
   "nbconvert_exporter": "python",
   "pygments_lexer": "ipython3",
   "version": "3.8.12"
  }
 },
 "nbformat": 4,
 "nbformat_minor": 5
}
