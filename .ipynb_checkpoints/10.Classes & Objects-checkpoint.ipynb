{
 "cells": [
  {
   "cell_type": "markdown",
   "id": "c030cabf",
   "metadata": {},
   "source": [
    "# Classes & Objects"
   ]
  },
  {
   "cell_type": "code",
   "execution_count": 1,
   "id": "beeb209e",
   "metadata": {},
   "outputs": [],
   "source": [
    "## creating a class and fucntion inside a class\n",
    "\n",
    "class Myclass:\n",
    "    \n",
    "    variable=\"blah\"\n",
    "    \n",
    "    def function(self):\n",
    "        print('This is a message inside the class')"
   ]
  },
  {
   "cell_type": "code",
   "execution_count": null,
   "id": "b98f1e57",
   "metadata": {},
   "outputs": [],
   "source": [
    "## Crating a class and function inside a class and also creating an object( instance of a class)\n",
    "\n",
    "class Myclass;\n",
    "variable='blah'\n",
    "\n",
    "    def function(self):\n",
    "        print(\"This is a message inside the class\")\n",
    "        \n",
    "myobjeectx=Myclass()"
   ]
  },
  {
   "cell_type": "markdown",
   "id": "3f9fd1ab",
   "metadata": {},
   "source": [
    "## Acessing object variables:"
   ]
  },
  {
   "cell_type": "code",
   "execution_count": 2,
   "id": "45835422",
   "metadata": {},
   "outputs": [
    {
     "data": {
      "text/plain": [
       "'blah'"
      ]
     },
     "execution_count": 2,
     "metadata": {},
     "output_type": "execute_result"
    }
   ],
   "source": [
    "class Myclass:\n",
    "    variable='blah'\n",
    "    \n",
    "    def function(self):\n",
    "        print('This is a message inside the class')\n",
    "        \n",
    "myobjectx=Myclass()\n",
    "\n",
    "myobjectx.variable\n"
   ]
  },
  {
   "cell_type": "code",
   "execution_count": 3,
   "id": "e9a1c4ec",
   "metadata": {},
   "outputs": [
    {
     "name": "stdout",
     "output_type": "stream",
     "text": [
      "blah\n"
     ]
    }
   ],
   "source": [
    "class Myclass:\n",
    "    variable='blah'\n",
    "    \n",
    "    def function(self):\n",
    "        print('This is a message inside the class')\n",
    "        \n",
    "myobjectx=Myclass()\n",
    "\n",
    "print(myobjectx.variable)"
   ]
  },
  {
   "cell_type": "raw",
   "id": "3ae42d88",
   "metadata": {},
   "source": [
    "You can create multiple different objects that are of the same class(have the same variables and functions defined). However, each object contains independent copies of the variables defined in the class. For instance, if we were to define another object with the \"MyClass\" class and then change the string in the variable above:"
   ]
  },
  {
   "cell_type": "code",
   "execution_count": 4,
   "id": "9471aa2f",
   "metadata": {},
   "outputs": [
    {
     "name": "stdout",
     "output_type": "stream",
     "text": [
      "blah\n",
      "yackity\n"
     ]
    }
   ],
   "source": [
    "class MyClass:\n",
    "    variable = \"blah\"\n",
    "\n",
    "    def function(self):\n",
    "        print(\"This is a message inside the class.\")\n",
    "\n",
    "myobjectx = MyClass()\n",
    "\n",
    "myobjecty = MyClass()\n",
    "\n",
    "\n",
    "\n",
    "myobjecty.variable = \"yackity\"\n",
    "\n",
    "# Then print out both values\n",
    "print(myobjectx.variable)\n",
    "print(myobjecty.variable)"
   ]
  },
  {
   "cell_type": "markdown",
   "id": "a44071e2",
   "metadata": {},
   "source": [
    "## Acessing Object functions:"
   ]
  },
  {
   "cell_type": "code",
   "execution_count": 7,
   "id": "80b475f5",
   "metadata": {},
   "outputs": [
    {
     "name": "stdout",
     "output_type": "stream",
     "text": [
      "This message is a message inside the class.\n"
     ]
    }
   ],
   "source": [
    "class Myclass:\n",
    "    variable='blah'\n",
    "    \n",
    "    def function(self):\n",
    "        print(\"This message is a message inside the class.\")\n",
    "        \n",
    "myobjectx=Myclass()\n",
    "\n",
    "myobjectx.function()  # Acessing function by creating an object of a class."
   ]
  },
  {
   "cell_type": "markdown",
   "id": "3af71d1f",
   "metadata": {},
   "source": [
    "## init()"
   ]
  },
  {
   "cell_type": "code",
   "execution_count": 8,
   "id": "7dfc73f4",
   "metadata": {},
   "outputs": [],
   "source": [
    "class NumberHolder:\n",
    "    \n",
    "    def __init__(self,number):\n",
    "        self.number=number"
   ]
  },
  {
   "cell_type": "markdown",
   "id": "9a19ac09",
   "metadata": {},
   "source": [
    "## Exercise:"
   ]
  },
  {
   "cell_type": "raw",
   "id": "25b45690",
   "metadata": {},
   "source": [
    "We have a class defined for vehicles. Create two new vehicles called car1 and car2. Set car1 to be a red convertible worth $60,000.00 with a name of Fer, and car2 to be a blue van named Jump worth $10,000.00."
   ]
  },
  {
   "cell_type": "code",
   "execution_count": 12,
   "id": "9ee71a3b",
   "metadata": {},
   "outputs": [
    {
     "name": "stdout",
     "output_type": "stream",
     "text": [
      "Fer is a red convertible worth $60000.00.\n",
      "Jump is a blue van worth $10000.00.\n"
     ]
    }
   ],
   "source": [
    "# define the Vehicle class\n",
    "class Vehicle:\n",
    "    name = \"\"\n",
    "    kind = \"car\"\n",
    "    color = \" \"\n",
    "    value =  100.00\n",
    "    \n",
    "    def description(self):\n",
    "        desc_str = \"%s is a %s %s worth $%.2f.\" % (self.name, self.color, self.kind, self.value)\n",
    "        return desc_str\n",
    "    \n",
    "# your code goes here\n",
    "car1 = Vehicle()\n",
    "car1.name=\"Fer\"\n",
    "car1.color=\"red\"\n",
    "car1.kind= \"convertible\"\n",
    "car1.value= 60000.00\n",
    "\n",
    "car2 = Vehicle()\n",
    "car2.name=\"Jump\"\n",
    "car2.color=\"blue\"\n",
    "car2.kind= \"van\"\n",
    "car2.value= 10000.00\n",
    "\n",
    "# test code\n",
    "print(car1.description())\n",
    "print(car2.description())"
   ]
  },
  {
   "cell_type": "code",
   "execution_count": 2,
   "id": "6d283950",
   "metadata": {},
   "outputs": [
    {
     "name": "stdout",
     "output_type": "stream",
     "text": [
      "Ferarri is a red convertible worth $60000.00.\n",
      "Jump is a blue van worth $10000.00.\n"
     ]
    }
   ],
   "source": [
    "# define the Vehicle class\n",
    "\n",
    "class Vehicle:\n",
    "    name = \"\"\n",
    "    kind = \"car\"\n",
    "    color = \"\"\n",
    "    value = 100.00\n",
    "    def description(self):\n",
    "        desc_str = \"%s is a %s %s worth $%.2f.\" % (self.name, self.color, self.kind, self.value)\n",
    "        return desc_str\n",
    "    \n",
    "# your code goes here\n",
    "car1=Vehicle()\n",
    "car1.name='Ferarri'\n",
    "car1.kind=\"convertible\"\n",
    "car1.color='red'\n",
    "car1.value= 60000.00\n",
    "\n",
    "car2=Vehicle()\n",
    "car2.name='Jump'\n",
    "car2.kind=\"van\"\n",
    "car2.color='blue'\n",
    "car2.value= 10000.00\n",
    "\n",
    "# test code\n",
    "print(car1.description())\n",
    "print(car2.description())"
   ]
  },
  {
   "cell_type": "code",
   "execution_count": null,
   "id": "04622bac",
   "metadata": {},
   "outputs": [],
   "source": []
  }
 ],
 "metadata": {
  "kernelspec": {
   "display_name": "Python 3 (ipykernel)",
   "language": "python",
   "name": "python3"
  },
  "language_info": {
   "codemirror_mode": {
    "name": "ipython",
    "version": 3
   },
   "file_extension": ".py",
   "mimetype": "text/x-python",
   "name": "python",
   "nbconvert_exporter": "python",
   "pygments_lexer": "ipython3",
   "version": "3.8.12"
  }
 },
 "nbformat": 4,
 "nbformat_minor": 5
}
