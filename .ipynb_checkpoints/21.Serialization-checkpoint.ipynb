{
 "cells": [
  {
   "cell_type": "markdown",
   "id": "8c6a5410",
   "metadata": {},
   "source": [
    "# 21.Serialization"
   ]
  },
  {
   "cell_type": "raw",
   "id": "951dd2fa",
   "metadata": {},
   "source": [
    "Python provides built-in JSON libraries to encode and decode JSON.\n",
    "\n",
    "In Python 2.5, the simplejson module is used, whereas in Python 2.7, the json module is used. Since this interpreter uses Python 2.7, we'll be using json.\n",
    "\n",
    "In order to use the json module, it must first be imported:"
   ]
  },
  {
   "cell_type": "code",
   "execution_count": 1,
   "id": "98c973fb",
   "metadata": {},
   "outputs": [],
   "source": [
    "import json "
   ]
  },
  {
   "cell_type": "raw",
   "id": "ce64502e",
   "metadata": {},
   "source": [
    "There are two basic formats for JSON data. Either in a string or the object datastructure. The object datastructure, in Python, consists of lists and dictionaries nested inside each other. The object datastructure allows one to use python methods (for lists and dictionaries) to add, list, search and remove elements from the datastructure. The String format is mainly used to pass the data into another program or load into a datastructure.\n",
    "\n",
    "To load JSON back to a data structure, use the \"loads\" method. This method takes a string and turns it back into the json object datastructure:"
   ]
  },
  {
   "cell_type": "code",
   "execution_count": 3,
   "id": "8a02f668",
   "metadata": {},
   "outputs": [
    {
     "ename": "NameError",
     "evalue": "name 'json_string' is not defined",
     "output_type": "error",
     "traceback": [
      "\u001b[1;31m---------------------------------------------------------------------------\u001b[0m",
      "\u001b[1;31mNameError\u001b[0m                                 Traceback (most recent call last)",
      "\u001b[1;32m~\\AppData\\Local\\Temp/ipykernel_29236/3960735872.py\u001b[0m in \u001b[0;36m<module>\u001b[1;34m\u001b[0m\n\u001b[0;32m      1\u001b[0m \u001b[1;32mimport\u001b[0m \u001b[0mjson\u001b[0m\u001b[1;33m\u001b[0m\u001b[1;33m\u001b[0m\u001b[0m\n\u001b[1;32m----> 2\u001b[1;33m \u001b[0mprint\u001b[0m\u001b[1;33m(\u001b[0m\u001b[0mjson\u001b[0m\u001b[1;33m.\u001b[0m\u001b[0mloads\u001b[0m\u001b[1;33m(\u001b[0m\u001b[0mjson_string\u001b[0m\u001b[1;33m)\u001b[0m\u001b[1;33m)\u001b[0m\u001b[1;33m\u001b[0m\u001b[1;33m\u001b[0m\u001b[0m\n\u001b[0m",
      "\u001b[1;31mNameError\u001b[0m: name 'json_string' is not defined"
     ]
    }
   ],
   "source": [
    "import json \n",
    "print(json.loads(json_string))"
   ]
  },
  {
   "cell_type": "code",
   "execution_count": 5,
   "id": "fa9d5f10",
   "metadata": {},
   "outputs": [
    {
     "name": "stdout",
     "output_type": "stream",
     "text": [
      "[1, 2, 3, \"a\", \"b\", \"c\"]\n"
     ]
    }
   ],
   "source": [
    "import json \n",
    "json_string= json.dumps([1,2,3,\"a\",\"b\",\"c\"])\n",
    "print(json_string)"
   ]
  },
  {
   "cell_type": "raw",
   "id": "1c3aedca",
   "metadata": {},
   "source": [
    "Python supports a Python proprietary data serialization method called pickle (and a faster alternative called (Pickle).\n",
    "You can use it exactly the same way."
   ]
  },
  {
   "cell_type": "code",
   "execution_count": 10,
   "id": "a95755bd",
   "metadata": {},
   "outputs": [
    {
     "name": "stdout",
     "output_type": "stream",
     "text": [
      "[1, 2, 3, 'a', 'b', 'c']\n"
     ]
    }
   ],
   "source": [
    "import pickle \n",
    "\n",
    "pickled_string =pickle.dumps([1,2,3,\"a\",\"b\",\"c\"])\n",
    "\n",
    "print(pickle.loads(pickled_string))"
   ]
  },
  {
   "cell_type": "raw",
   "id": "1dd63c0e",
   "metadata": {},
   "source": [
    "The aim of this exercise is to print out the JSON string with key-value pair \"Me\" : 800 added to it."
   ]
  },
  {
   "cell_type": "code",
   "execution_count": 23,
   "id": "b6e91c66",
   "metadata": {},
   "outputs": [
    {
     "name": "stdout",
     "output_type": "stream",
     "text": [
      "300\n",
      "400\n",
      "800\n"
     ]
    }
   ],
   "source": [
    "import json\n",
    "\n",
    "# fix this function, so it adds the given name\n",
    "# and salary pair to salaries_json, and return it\n",
    "def add_employee(salaries_json, name, salary):\n",
    "    salaries = json.loads(salaries_json)\n",
    "    salaries[name] = salary\n",
    "\n",
    "    return json.dumps(salaries)\n",
    "\n",
    "# test code\n",
    "salaries = '{\"Alfred\" : 300, \"Jane\" : 400 }'\n",
    "new_salaries = add_employee(salaries, \"Me\",800)\n",
    "decoded_salaries = json.loads(new_salaries)\n",
    "print(decoded_salaries[\"Alfred\"])\n",
    "print(decoded_salaries[\"Jane\"])\n",
    "print(decoded_salaries[\"Me\"])"
   ]
  },
  {
   "cell_type": "code",
   "execution_count": null,
   "id": "8fef6562",
   "metadata": {},
   "outputs": [],
   "source": []
  }
 ],
 "metadata": {
  "kernelspec": {
   "display_name": "Python 3 (ipykernel)",
   "language": "python",
   "name": "python3"
  },
  "language_info": {
   "codemirror_mode": {
    "name": "ipython",
    "version": 3
   },
   "file_extension": ".py",
   "mimetype": "text/x-python",
   "name": "python",
   "nbconvert_exporter": "python",
   "pygments_lexer": "ipython3",
   "version": "3.8.12"
  }
 },
 "nbformat": 4,
 "nbformat_minor": 5
}
