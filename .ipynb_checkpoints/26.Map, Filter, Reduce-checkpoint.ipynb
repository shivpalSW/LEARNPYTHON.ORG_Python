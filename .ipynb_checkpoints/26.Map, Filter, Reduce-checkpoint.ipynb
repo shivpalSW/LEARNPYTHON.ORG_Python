{
 "cells": [
  {
   "cell_type": "markdown",
   "id": "8c22d860",
   "metadata": {},
   "source": [
    "# <center> 26.Map, Filter, Reduce"
   ]
  },
  {
   "cell_type": "markdown",
   "id": "fddb9792",
   "metadata": {},
   "source": [
    "https://www.learnpython.org/en/Map,_Filter,_Reduce"
   ]
  },
  {
   "cell_type": "markdown",
   "id": "9048686c",
   "metadata": {},
   "source": [
    "## Map"
   ]
  },
  {
   "cell_type": "raw",
   "id": "b90dcd5c",
   "metadata": {},
   "source": [
    "\n",
    "The map() function in python has the following syntax:\n",
    "\n",
    "map(func, *iterables)\n",
    "\n",
    "Where func is the function on which each element in iterables (as many as they are) would be applied on. Notice the asterisk(*) on iterables? It means there can be as many iterables as possible, in so far func has that exact number as required input arguments. Before we move on to an example, it's important that you note the following:\n",
    "\n",
    "In Python 2, the map() function returns a list. In Python 3, however, the function returns a map object which is a generator object. To get the result as a list, the built-in list() function can be called on the map object. i.e. list(map(func, *iterables))\n",
    "The number of arguments to func must be the number of iterables listed.\n",
    "Let's see how these rules play out with the following examples.\n",
    "\n",
    "Say I have a list (iterable) of my favourite pet names, all in lower case and I need them in uppercase. Traditonally, in normal pythoning, I would do something like this:"
   ]
  },
  {
   "cell_type": "code",
   "execution_count": 4,
   "id": "f40cecfa",
   "metadata": {},
   "outputs": [
    {
     "name": "stdout",
     "output_type": "stream",
     "text": [
      "['ALFRAID', 'TABITHA', 'WILLIAM', 'ARLA']\n"
     ]
    }
   ],
   "source": [
    "my_pets=['alfraid','tabitha','william','arla']\n",
    "\n",
    "uppered_pets=[]\n",
    "\n",
    "for pet in my_pets:\n",
    "    pet= pet.upper()\n",
    "    uppered_pets.append(pet)\n",
    "    \n",
    "print(uppered_pets)"
   ]
  },
  {
   "cell_type": "raw",
   "id": "2a5b4b57",
   "metadata": {},
   "source": [
    "With map() functions, it's not only easier, but it's also much more flexible. I simply do this"
   ]
  },
  {
   "cell_type": "code",
   "execution_count": 8,
   "id": "23ebacac",
   "metadata": {},
   "outputs": [
    {
     "name": "stdout",
     "output_type": "stream",
     "text": [
      "['ALFRAID', 'TABITHA', 'WILLIAM', 'ARLA']\n"
     ]
    }
   ],
   "source": [
    "# map function:\n",
    "my_pets=['alfraid','tabitha','william','arla']\n",
    "\n",
    "uppered_pets=list(map(str.upper,my_pets))\n",
    "\n",
    "print(uppered_pets)"
   ]
  },
  {
   "cell_type": "code",
   "execution_count": 12,
   "id": "c45ec7ef",
   "metadata": {},
   "outputs": [
    {
     "name": "stdout",
     "output_type": "stream",
     "text": [
      "[3.6, 5.58, 4.009, 56.2424, 9.01344, 32.00013]\n"
     ]
    }
   ],
   "source": [
    "\n",
    "circle_areas = [3.56773, 5.57668, 4.00914, 56.24241, 9.01344, 32.00013]\n",
    "\n",
    "result= list(map(round,circle_areas,range(1,7)))\n",
    "\n",
    "print(result)"
   ]
  },
  {
   "cell_type": "code",
   "execution_count": 13,
   "id": "b172bb7f",
   "metadata": {},
   "outputs": [
    {
     "name": "stdout",
     "output_type": "stream",
     "text": [
      "[3.6, 5.58]\n"
     ]
    }
   ],
   "source": [
    "\n",
    "circle_areas = [3.56773, 5.57668, 4.00914, 56.24241, 9.01344, 32.00013]\n",
    "\n",
    "result= list(map(round,circle_areas,range(1,3)))\n",
    "\n",
    "print(result)"
   ]
  },
  {
   "cell_type": "raw",
   "id": "f979fc0f",
   "metadata": {},
   "source": [
    "The same thing happens if circle_areas is less than the length of the second iterable. Python simply stops when it can't find the next element in one of the iterables.\n",
    "\n",
    "To consolidate our knowledge of the map() function, we are going to use it to implement our own custom zip() function. The zip() function is a function that takes a number of iterables and then creates a tuple containing each of the elements in the iterables. Like map(), in Python 3, it returns a generator object, which can be easily converted to a list by calling the built-in list function on it. Use the below interpreter session to get a grip of zip() before we create ours with map()"
   ]
  },
  {
   "cell_type": "code",
   "execution_count": 16,
   "id": "873be581",
   "metadata": {},
   "outputs": [
    {
     "name": "stdout",
     "output_type": "stream",
     "text": [
      "[('a', 1), ('b', 2), ('c', 3), ('d', 4), ('e', 5)]\n"
     ]
    }
   ],
   "source": [
    "my_strings = ['a','b','c','d','e']\n",
    "my_numbers = [1,2,3,4,5]\n",
    "\n",
    "results= list(zip(my_strings,my_numbers))\n",
    "print(results)"
   ]
  },
  {
   "cell_type": "code",
   "execution_count": 17,
   "id": "26d87630",
   "metadata": {},
   "outputs": [
    {
     "name": "stdout",
     "output_type": "stream",
     "text": [
      "[('a', 1), ('b', 2), ('c', 3), ('d', 4), ('e', 5)]\n"
     ]
    }
   ],
   "source": [
    "my_strings = ['a','b','c','d','e']\n",
    "my_numbers = [1,2,3,4,5]\n",
    "\n",
    "results=list(map(lambda x,y:(x,y),my_strings,my_numbers))\n",
    "\n",
    "print(results)"
   ]
  },
  {
   "cell_type": "markdown",
   "id": "2dc36150",
   "metadata": {},
   "source": [
    "## Filter"
   ]
  },
  {
   "cell_type": "raw",
   "id": "44479c65",
   "metadata": {},
   "source": [
    "\n",
    "While map() passes each element in the iterable through a function and returns the result of all elements having passed through the function, filter(), first of all, requires the function to return boolean values (true or false) and then passes each element in the iterable through the function, \"filtering\" away those that are false. It has the following syntax:\n",
    "\n",
    "filter(func, iterable)\n",
    "\n",
    "The following points are to be noted regarding filter():\n",
    "\n",
    "Unlike map(), only one iterable is required.\n",
    "The func argument is required to return a boolean type. If it doesn't, filter simply returns the iterable passed to it. Also, as only one iterable is required, it's implicit that func must only take one argument.\n",
    "filter passes each element in the iterable through func and returns only the ones that evaluate to true. I mean, it's right there in the name -- a \"filter\".\n",
    "Let's see some examples\n",
    "\n",
    "The following is a list (iterable) of the scores of 10 students in a Chemistry exam. Let's filter out those who passed with scores more than 75...using filter.\n",
    "\n"
   ]
  },
  {
   "cell_type": "code",
   "execution_count": 23,
   "id": "0fcf9123",
   "metadata": {},
   "outputs": [
    {
     "name": "stdout",
     "output_type": "stream",
     "text": [
      "[90, 76, 88, 81]\n"
     ]
    }
   ],
   "source": [
    "scores = [66, 90, 68, 59, 76, 60, 88, 74, 81, 65]\n",
    "\n",
    "def is_A_Student(scores):\n",
    "    return scores >75\n",
    "\n",
    "over75=list(filter(is_A_Student,scores))\n",
    "\n",
    "print(over75)"
   ]
  },
  {
   "cell_type": "raw",
   "id": "a8dcfa91",
   "metadata": {},
   "source": [
    "The next example will be a palindrome detector. A \"palindrome\" is a word, phrase, or sequence that reads the same backwards as forwards. Let's filter out words that are palindromes from a tuple (iterable) of suspected palindromes."
   ]
  },
  {
   "cell_type": "code",
   "execution_count": 24,
   "id": "e0434a00",
   "metadata": {},
   "outputs": [
    {
     "name": "stdout",
     "output_type": "stream",
     "text": [
      "['madam', 'anutforajaroftuna']\n"
     ]
    }
   ],
   "source": [
    "# Python 3\n",
    "dromes = (\"demigod\", \"rewire\", \"madam\", \"freer\", \"anutforajaroftuna\", \"kiosk\")\n",
    "\n",
    "palindromes=list(filter(lambda word: word==word[: : -1],dromes))\n",
    "\n",
    "print(palindromes)"
   ]
  },
  {
   "cell_type": "markdown",
   "id": "9790ce73",
   "metadata": {},
   "source": [
    "## Reduce"
   ]
  },
  {
   "cell_type": "raw",
   "id": "cce141fe",
   "metadata": {},
   "source": [
    "\n",
    "reduce applies a function of two arguments cumulatively to the elements of an iterable, optionally starting with an initial argument. It has the following syntax:\n",
    "\n",
    "reduce(func, iterable[, initial])\n",
    "\n",
    "Where func is the function on which each element in the iterable gets cumulatively applied to, and initial is the optional value that gets placed before the elements of the iterable in the calculation, and serves as a default when the iterable is empty. The following should be noted about reduce(): 1. func requires two arguments, the first of which is the first element in iterable (if initial is not supplied) and the second element in iterable. If initial is supplied, then it becomes the first argument to func and the first element in iterable becomes the second element. 2. reduce \"reduces\" (I know, forgive me) iterable into a single value.\n",
    "\n",
    "As usual, let's see some examples.\n",
    "\n",
    "Let's create our own version of Python's built-in sum() function. The sum() function returns the sum of all the items in the iterable passed to it."
   ]
  },
  {
   "cell_type": "code",
   "execution_count": 26,
   "id": "59742351",
   "metadata": {},
   "outputs": [
    {
     "name": "stdout",
     "output_type": "stream",
     "text": [
      "68\n"
     ]
    }
   ],
   "source": [
    "from functools import reduce\n",
    "\n",
    "numbers=[3,4,6,9,34,12]\n",
    "\n",
    "def custom_sum(first,second):\n",
    "    return first + second\n",
    "\n",
    "result = reduce(custom_sum,numbers)\n",
    "print(result)"
   ]
  },
  {
   "cell_type": "markdown",
   "id": "d54a2d1a",
   "metadata": {},
   "source": [
    "## Exercise"
   ]
  },
  {
   "cell_type": "raw",
   "id": "0903dd6e",
   "metadata": {},
   "source": [
    "In this exercise, you'll use each of map, filter, and reduce to fix broken code."
   ]
  },
  {
   "cell_type": "code",
   "execution_count": 60,
   "id": "28a3ff12",
   "metadata": {},
   "outputs": [
    {
     "name": "stdout",
     "output_type": "stream",
     "text": [
      "[18.922, 37.088, 10.562, 95.453, 4.666, 78.854, 21.068]\n",
      "['olumide', 'josiah', 'omoseun']\n",
      "24840\n"
     ]
    }
   ],
   "source": [
    "from functools import reduce \n",
    "\n",
    "# Use map to print the square of each numbers rounded to three decimal places\n",
    "my_floats = [4.35, 6.09, 3.25, 9.77, 2.16, 8.88, 4.59]\n",
    "map_result=list(map(lambda x:round(x**2,3),my_floats))\n",
    "\n",
    "# Use filter to print only the names that are less than  or equal to seven letters\n",
    "my_names = [\"olumide\", \"akinremi\", \"josiah\", \"temidayo\", \"omoseun\"]\n",
    "filter_result= list(filter(lambda x : len(x)<=7,my_names))\n",
    "\n",
    "\n",
    "# Use reduce to print the product of these numbers\n",
    "my_numbers = [4, 6, 9, 23, 5]\n",
    "reduce_result= (reduce(lambda x,y:x*y,my_numbers))\n",
    "\n",
    "print(map_result)\n",
    "print(filter_result)\n",
    "print(reduce_result)"
   ]
  },
  {
   "cell_type": "code",
   "execution_count": 55,
   "id": "28e2f282",
   "metadata": {},
   "outputs": [
    {
     "name": "stdout",
     "output_type": "stream",
     "text": [
      "[18.922, 37.088, 10.562, 95.453, 4.666, 78.854, 21.068]\n"
     ]
    }
   ],
   "source": [
    "# Use map to print the square of each numbers rounded to three decimal places\n",
    "mapSquare=list(map(lambda x:round(x**2,3),my_floats))\n",
    "print(mapSquare)"
   ]
  },
  {
   "cell_type": "code",
   "execution_count": 53,
   "id": "fbec18c3",
   "metadata": {},
   "outputs": [
    {
     "name": "stdout",
     "output_type": "stream",
     "text": [
      "['olumide', 'josiah', 'omoseun']\n"
     ]
    }
   ],
   "source": [
    "# Use filter to print only the names that are less than  or equal to seven letters\n",
    "my_names = [\"olumide\", \"akinremi\", \"josiah\", \"temidayo\", \"omoseun\"]\n",
    "\n",
    "def Letters7(my_names):\n",
    "    return len(my_names)<=7\n",
    "    \n",
    "Lett7= list(filter(Letters7,my_names))\n",
    "print(Lett7)"
   ]
  },
  {
   "cell_type": "code",
   "execution_count": 58,
   "id": "73466061",
   "metadata": {},
   "outputs": [
    {
     "name": "stdout",
     "output_type": "stream",
     "text": [
      "24840\n"
     ]
    }
   ],
   "source": [
    "# Use reduce to print the product of these numbers\n",
    "my_numbers = [4, 6, 9, 23, 5]\n",
    "ReduceProd= (reduce(lambda x,y:x*y,my_numbers))\n",
    "print(ReduceProd)\n"
   ]
  },
  {
   "cell_type": "code",
   "execution_count": 1,
   "id": "90ef75ff",
   "metadata": {},
   "outputs": [
    {
     "name": "stdout",
     "output_type": "stream",
     "text": [
      "['hallway', 11.25, 'Kitchen', 18.0, 'living room', 20.0, 'bedroom', 10.75, 'bathroom', 9.5]\n"
     ]
    }
   ],
   "source": [
    "hall = 11.25\n",
    "kit = 18.0\n",
    "liv = 20.0\n",
    "bed = 10.75\n",
    "bath = 9.50\n",
    "\n",
    "# Adapt list areas\n",
    "areas = [\"hallway\",hall,\"Kitchen\",kit,\"living room\",liv,\"bedroom\",bed,\"bathroom\",bath]\n",
    "\n",
    "# Print areas\n",
    "print(areas)"
   ]
  },
  {
   "cell_type": "code",
   "execution_count": 2,
   "id": "b275be83",
   "metadata": {},
   "outputs": [
    {
     "name": "stdout",
     "output_type": "stream",
     "text": [
      "[3, 'aaaaa', 3]\n"
     ]
    }
   ],
   "source": [
    "\n",
    "a=[1 + 2, \"a\" * 5, 3]\n",
    "print(a)"
   ]
  },
  {
   "cell_type": "markdown",
   "id": "34a23155",
   "metadata": {},
   "source": [
    "\n",
    "### PRACTICE ===================================================================="
   ]
  },
  {
   "cell_type": "code",
   "execution_count": 7,
   "id": "ee95acf5",
   "metadata": {},
   "outputs": [
    {
     "name": "stdout",
     "output_type": "stream",
     "text": [
      "['ALFRED', 'TABITHA', 'WILLIAM', 'ARLA']\n"
     ]
    }
   ],
   "source": [
    "\n",
    "# Normal function\n",
    "\n",
    "my_pets = ['alfred', 'tabitha', 'william', 'arla']\n",
    "\n",
    "uppered_pets=[]\n",
    "\n",
    "for pet in my_pets:\n",
    "    pet=pet.upper()\n",
    "    \n",
    "    uppered_pets.append(pet)\n",
    "    \n",
    "print(uppered_pets)"
   ]
  },
  {
   "cell_type": "markdown",
   "id": "bd84bec1",
   "metadata": {},
   "source": [
    "## Map\n"
   ]
  },
  {
   "cell_type": "code",
   "execution_count": null,
   "id": "c2368afc",
   "metadata": {},
   "outputs": [],
   "source": [
    "The map() function in python has the following syntax:\n",
    "\n",
    "map(func, *iterables)"
   ]
  },
  {
   "cell_type": "code",
   "execution_count": 8,
   "id": "cca9303e",
   "metadata": {},
   "outputs": [
    {
     "name": "stdout",
     "output_type": "stream",
     "text": [
      "['ALFRED', 'TABITHA', 'WILLIAM', 'ARLA']\n"
     ]
    }
   ],
   "source": [
    "##1. map \n",
    "\n",
    "my_pets = ['alfred', 'tabitha', 'william', 'arla']\n",
    "\n",
    "uppered_pets=list(map(str.upper,my_pets))\n",
    "\n",
    "print(uppered_pets)"
   ]
  },
  {
   "cell_type": "code",
   "execution_count": 9,
   "id": "0ce44c50",
   "metadata": {},
   "outputs": [
    {
     "name": "stdout",
     "output_type": "stream",
     "text": [
      "[3.6, 5.58, 4.009, 56.2424, 9.01344, 32.00013]\n"
     ]
    }
   ],
   "source": [
    "\n",
    "circle_areas = [3.56773, 5.57668, 4.00914, 56.24241, 9.01344, 32.00013]\n",
    "\n",
    "result= list(map(round,circle_areas,range(1,7)))\n",
    "\n",
    "print(result)"
   ]
  },
  {
   "cell_type": "code",
   "execution_count": 10,
   "id": "63614e53",
   "metadata": {},
   "outputs": [
    {
     "name": "stdout",
     "output_type": "stream",
     "text": [
      "[3.6, 5.58]\n"
     ]
    }
   ],
   "source": [
    "\n",
    "circle_areas = [3.56773, 5.57668, 4.00914, 56.24241, 9.01344, 32.00013]\n",
    "result= list(map(round,circle_areas,range(1,3)))\n",
    "print(result)"
   ]
  },
  {
   "cell_type": "code",
   "execution_count": 15,
   "id": "65886766",
   "metadata": {},
   "outputs": [
    {
     "name": "stdout",
     "output_type": "stream",
     "text": [
      "[('a', 1), ('b', 2), ('c', 3), ('d', 4), ('e', 5)]\n"
     ]
    }
   ],
   "source": [
    "my_strings = ['a', 'b', 'c', 'd', 'e']\n",
    "my_numbers = [1, 2, 3, 4, 5]\n",
    "results=list(zip(my_strings,my_numbers))\n",
    "print(results)"
   ]
  },
  {
   "cell_type": "code",
   "execution_count": 16,
   "id": "db824871",
   "metadata": {},
   "outputs": [
    {
     "name": "stdout",
     "output_type": "stream",
     "text": [
      "[('a', 1), ('b', 2), ('c', 3), ('d', 4), ('e', 5)]\n"
     ]
    }
   ],
   "source": [
    "my_strings = ['a', 'b', 'c', 'd', 'e']\n",
    "my_numbers = [1, 2, 3, 4, 5]\n",
    "results=list(map(lambda x,y : (x,y),my_strings,my_numbers))\n",
    "print(results)"
   ]
  },
  {
   "cell_type": "markdown",
   "id": "2638e0c2",
   "metadata": {},
   "source": [
    "## Filter"
   ]
  },
  {
   "cell_type": "code",
   "execution_count": null,
   "id": "c66928e7",
   "metadata": {},
   "outputs": [],
   "source": [
    "syntax:\n",
    "\n",
    "filter(func, iterable)"
   ]
  },
  {
   "cell_type": "code",
   "execution_count": 17,
   "id": "49fb73d1",
   "metadata": {},
   "outputs": [
    {
     "name": "stdout",
     "output_type": "stream",
     "text": [
      "[90, 76, 88, 81]\n"
     ]
    }
   ],
   "source": [
    "scores = [66, 90, 68, 59, 76, 60, 88, 74, 81, 65]\n",
    "\n",
    "def A_Student(score):\n",
    "    return score > 75\n",
    "\n",
    "over75=list(filter(A_Student,scores))\n",
    "print(over75)"
   ]
  },
  {
   "cell_type": "code",
   "execution_count": 20,
   "id": "38c80b85",
   "metadata": {},
   "outputs": [
    {
     "name": "stdout",
     "output_type": "stream",
     "text": [
      "['madam', 'anutforajaroftuna']\n"
     ]
    }
   ],
   "source": [
    "dromes = (\"demigod\", \"rewire\", \"madam\", \"freer\", \"anutforajaroftuna\", \"kiosk\")\n",
    "\n",
    "palindromes=list(filter(lambda word : word==word[ : : -1],dromes))\n",
    "\n",
    "print(palindromes)"
   ]
  },
  {
   "cell_type": "markdown",
   "id": "deb75bd5",
   "metadata": {},
   "source": [
    "## Reduce"
   ]
  },
  {
   "cell_type": "code",
   "execution_count": null,
   "id": "dd3623ea",
   "metadata": {},
   "outputs": [],
   "source": [
    "syntax:\n",
    "\n",
    "reduce(func, iterable[, initial])"
   ]
  },
  {
   "cell_type": "code",
   "execution_count": 21,
   "id": "5c54c8fd",
   "metadata": {},
   "outputs": [
    {
     "name": "stdout",
     "output_type": "stream",
     "text": [
      "68\n"
     ]
    }
   ],
   "source": [
    "# Python 3\n",
    "from functools import reduce\n",
    "\n",
    "numbers = [3, 4, 6, 9, 34, 12]\n",
    "\n",
    "def custom_sum(first, second):\n",
    "    return first + second\n",
    "\n",
    "result = reduce(custom_sum, numbers)\n",
    "print(result)"
   ]
  },
  {
   "cell_type": "code",
   "execution_count": 23,
   "id": "1a96c540",
   "metadata": {},
   "outputs": [
    {
     "name": "stdout",
     "output_type": "stream",
     "text": [
      "78\n"
     ]
    }
   ],
   "source": [
    "# Python 3\n",
    "from functools import reduce\n",
    "\n",
    "numbers = [3, 4, 6, 9, 34, 12]\n",
    "\n",
    "def custom_sum(first, second):\n",
    "    return first + second\n",
    "\n",
    "result = reduce(custom_sum, numbers, 10)\n",
    "print(result)"
   ]
  },
  {
   "cell_type": "markdown",
   "id": "fe2179b5",
   "metadata": {},
   "source": [
    "## Exercise:"
   ]
  },
  {
   "cell_type": "code",
   "execution_count": 52,
   "id": "fe5e1bef",
   "metadata": {},
   "outputs": [
    {
     "name": "stdout",
     "output_type": "stream",
     "text": [
      "[18.922, 37.088, 10.562, 95.453, 4.666, 78.854, 21.068]\n",
      "['olumide', 'josiah', 'omoseun']\n",
      "24840\n"
     ]
    }
   ],
   "source": [
    "from functools import reduce \n",
    "\n",
    "# Use map to print the square of each numbers rounded to three decimal places\n",
    "my_floats = [4.35, 6.09, 3.25, 9.77, 2.16, 8.88, 4.59]\n",
    "\n",
    "# Use filter to print only the names that are less than  or equal to seven letters\n",
    "my_names = [\"olumide\", \"akinremi\", \"josiah\", \"temidayo\", \"omoseun\"]\n",
    "\n",
    "# Use reduce to print the product of these numbers\n",
    "my_numbers = [4, 6, 9, 23, 5]\n",
    "\n",
    "# Fix all three respectively.\n",
    "map_result = list(map(lambda x: round(x**2,3), my_floats))\n",
    "filter_result = list(filter(lambda name:len(name)<=7,my_names))\n",
    "reduce_result = reduce(lambda x, y: x * y, my_numbers)\n",
    "\n",
    "print(map_result)\n",
    "print(filter_result)\n",
    "print(reduce_result)"
   ]
  },
  {
   "cell_type": "code",
   "execution_count": 37,
   "id": "d2bcd812",
   "metadata": {},
   "outputs": [
    {
     "name": "stdout",
     "output_type": "stream",
     "text": [
      "[18.922, 37.088, 10.562, 95.453, 4.666, 78.854, 21.068]\n"
     ]
    }
   ],
   "source": [
    "## Use map to print the square of each numbers rounded to three decimal places\n",
    "my_floats = [4.35, 6.09, 3.25, 9.77, 2.16, 8.88, 4.59]\n",
    "map_result = list(map(lambda x: round(x**2,3), my_floats))\n",
    "print(map_result)"
   ]
  },
  {
   "cell_type": "code",
   "execution_count": 48,
   "id": "83a60450",
   "metadata": {},
   "outputs": [
    {
     "name": "stdout",
     "output_type": "stream",
     "text": [
      "['olumide', 'josiah', 'omoseun']\n"
     ]
    }
   ],
   "source": [
    "## Use filter to print only the names that are less than  or equal to seven letters\n",
    "my_names = [\"olumide\", \"akinremi\", \"josiah\", \"temidayo\", \"omoseun\"]\n",
    "filter_result = list(filter(lambda name:len(name)<=7,my_names))\n",
    "print(filter_result)"
   ]
  },
  {
   "cell_type": "code",
   "execution_count": 49,
   "id": "145fd316",
   "metadata": {},
   "outputs": [
    {
     "name": "stdout",
     "output_type": "stream",
     "text": [
      "24840\n"
     ]
    }
   ],
   "source": [
    "# Use reduce to print the product of these numbers\n",
    "my_numbers = [4, 6, 9, 23, 5]\n",
    "reduce_result = reduce(lambda x, y: x * y, my_numbers)\n",
    "print(reduce_result)"
   ]
  },
  {
   "cell_type": "code",
   "execution_count": null,
   "id": "7fdaeb16",
   "metadata": {},
   "outputs": [],
   "source": []
  }
 ],
 "metadata": {
  "kernelspec": {
   "display_name": "Python 3 (ipykernel)",
   "language": "python",
   "name": "python3"
  },
  "language_info": {
   "codemirror_mode": {
    "name": "ipython",
    "version": 3
   },
   "file_extension": ".py",
   "mimetype": "text/x-python",
   "name": "python",
   "nbconvert_exporter": "python",
   "pygments_lexer": "ipython3",
   "version": "3.8.12"
  }
 },
 "nbformat": 4,
 "nbformat_minor": 5
}
