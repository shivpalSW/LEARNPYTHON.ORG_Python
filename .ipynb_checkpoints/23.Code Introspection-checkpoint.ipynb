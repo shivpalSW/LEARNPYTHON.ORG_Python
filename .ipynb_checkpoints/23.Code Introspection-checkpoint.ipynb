{
 "cells": [
  {
   "cell_type": "markdown",
   "id": "b6a0b68c",
   "metadata": {},
   "source": [
    "# 23.Code Introspection"
   ]
  },
  {
   "cell_type": "raw",
   "id": "01ba331b",
   "metadata": {},
   "source": [
    "Code introspection is the ability to examine classes, functions and keywords to know what they are, what they do and what they know.\n",
    "\n",
    "Python provides several functions and utilities for code introspection."
   ]
  },
  {
   "cell_type": "code",
   "execution_count": null,
   "id": "f94830b2",
   "metadata": {},
   "outputs": [],
   "source": [
    "help()\n",
    "dir() \n",
    "hasattr() \n",
    "id() \n",
    "type() \n",
    "repr() \n",
    "callable() \n",
    "issubclass() \n",
    "isinstance() \n",
    "__doc__ \n",
    "__name__"
   ]
  },
  {
   "cell_type": "raw",
   "id": "2a03b8d0",
   "metadata": {},
   "source": [
    "Exercise"
   ]
  },
  {
   "cell_type": "code",
   "execution_count": null,
   "id": "53750d55",
   "metadata": {},
   "outputs": [],
   "source": [
    "Print a list of all attributes of the given Vehicle object."
   ]
  },
  {
   "cell_type": "code",
   "execution_count": 4,
   "id": "2a0171a6",
   "metadata": {},
   "outputs": [
    {
     "name": "stdout",
     "output_type": "stream",
     "text": [
      "Help on built-in function dir in module builtins:\n",
      "\n",
      "dir(...)\n",
      "    dir([object]) -> list of strings\n",
      "    \n",
      "    If called without an argument, return the names in the current scope.\n",
      "    Else, return an alphabetized list of names comprising (some of) the attributes\n",
      "    of the given object, and of attributes reachable from it.\n",
      "    If the object supplies a method named __dir__, it will be used; otherwise\n",
      "    the default dir() logic is used and returns:\n",
      "      for a module object: the module's attributes.\n",
      "      for a class object:  its attributes, and recursively the attributes\n",
      "        of its bases.\n",
      "      for any other object: its attributes, its class's attributes, and\n",
      "        recursively the attributes of its class's base classes.\n",
      "\n",
      "Help on built-in function hasattr in module builtins:\n",
      "\n",
      "hasattr(obj, name, /)\n",
      "    Return whether the object has an attribute with the given name.\n",
      "    \n",
      "    This is done by calling getattr(obj, name) and catching AttributeError.\n",
      "\n",
      "Help on built-in function id in module builtins:\n",
      "\n",
      "id(obj, /)\n",
      "    Return the identity of an object.\n",
      "    \n",
      "    This is guaranteed to be unique among simultaneously existing objects.\n",
      "    (CPython uses the object's memory address.)\n",
      "\n",
      "['__class__', '__delattr__', '__dict__', '__dir__', '__doc__', '__eq__', '__format__', '__ge__', '__getattribute__', '__gt__', '__hash__', '__init__', '__init_subclass__', '__le__', '__lt__', '__module__', '__ne__', '__new__', '__reduce__', '__reduce_ex__', '__repr__', '__setattr__', '__sizeof__', '__str__', '__subclasshook__', '__weakref__', 'color', 'description', 'kind', 'name', 'value']\n"
     ]
    }
   ],
   "source": [
    "# Use the help function to see what each function does.\n",
    "# Delete this when you are done.\n",
    "\n",
    "help(dir)\n",
    "help(hasattr)\n",
    "help(id)\n",
    "\n",
    "# Define the Vehicle class.\n",
    "class Vehicle:\n",
    "    name = \"\"\n",
    "    kind = \"car\"\n",
    "    color = \"\"\n",
    "    value = 100.00\n",
    "    def description(self):\n",
    "        desc_str = \"%s is a %s %s worth $%.2f.\" % (self.name, self.color, self.kind, self.value)\n",
    "        return desc_str\n",
    "\n",
    "# Print a list of all attributes of the Vehicle class.\n",
    "# Your code goes here\n",
    "print(dir(Vehicle))"
   ]
  },
  {
   "cell_type": "code",
   "execution_count": null,
   "id": "fa2a213b",
   "metadata": {},
   "outputs": [],
   "source": []
  },
  {
   "cell_type": "code",
   "execution_count": null,
   "id": "9d6776e8",
   "metadata": {},
   "outputs": [],
   "source": []
  },
  {
   "cell_type": "code",
   "execution_count": null,
   "id": "817054bd",
   "metadata": {},
   "outputs": [],
   "source": []
  },
  {
   "cell_type": "code",
   "execution_count": null,
   "id": "72783ed9",
   "metadata": {},
   "outputs": [],
   "source": []
  },
  {
   "cell_type": "code",
   "execution_count": null,
   "id": "e897424c",
   "metadata": {},
   "outputs": [],
   "source": []
  },
  {
   "cell_type": "code",
   "execution_count": null,
   "id": "2474b30a",
   "metadata": {},
   "outputs": [],
   "source": []
  },
  {
   "cell_type": "code",
   "execution_count": null,
   "id": "e4f599c4",
   "metadata": {},
   "outputs": [],
   "source": []
  }
 ],
 "metadata": {
  "kernelspec": {
   "display_name": "Python 3 (ipykernel)",
   "language": "python",
   "name": "python3"
  },
  "language_info": {
   "codemirror_mode": {
    "name": "ipython",
    "version": 3
   },
   "file_extension": ".py",
   "mimetype": "text/x-python",
   "name": "python",
   "nbconvert_exporter": "python",
   "pygments_lexer": "ipython3",
   "version": "3.8.12"
  }
 },
 "nbformat": 4,
 "nbformat_minor": 5
}
