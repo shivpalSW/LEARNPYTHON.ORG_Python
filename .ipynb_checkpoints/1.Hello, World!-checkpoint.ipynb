{
 "cells": [
  {
   "cell_type": "markdown",
   "id": "96ad3337",
   "metadata": {},
   "source": [
    "## 1.Hello, World!"
   ]
  },
  {
   "cell_type": "markdown",
   "id": "dab2c4a4",
   "metadata": {},
   "source": [
    "https://www.learnpython.org/en/Hello%2C_World%21"
   ]
  },
  {
   "cell_type": "code",
   "execution_count": 1,
   "id": "142380af",
   "metadata": {},
   "outputs": [
    {
     "name": "stdout",
     "output_type": "stream",
     "text": [
      "This line will be printed.\n"
     ]
    }
   ],
   "source": [
    "print(\"This line will be printed.\")"
   ]
  },
  {
   "cell_type": "markdown",
   "id": "92842a88",
   "metadata": {},
   "source": [
    "###  Indentation"
   ]
  },
  {
   "cell_type": "code",
   "execution_count": 2,
   "id": "85db78b7",
   "metadata": {},
   "outputs": [
    {
     "name": "stdout",
     "output_type": "stream",
     "text": [
      "x is 1.\n"
     ]
    }
   ],
   "source": [
    "x = 1\n",
    "if x == 1:\n",
    "    # indented four spaces\n",
    "    print(\"x is 1.\")\n",
    "    "
   ]
  },
  {
   "cell_type": "markdown",
   "id": "d84316b1",
   "metadata": {},
   "source": [
    "## Exercise"
   ]
  },
  {
   "cell_type": "code",
   "execution_count": 3,
   "id": "59de8c2d",
   "metadata": {},
   "outputs": [
    {
     "name": "stdout",
     "output_type": "stream",
     "text": [
      "Goodbye, World!\n"
     ]
    }
   ],
   "source": [
    "print(\"Goodbye, World!\")"
   ]
  },
  {
   "cell_type": "code",
   "execution_count": null,
   "id": "15c901a0",
   "metadata": {},
   "outputs": [],
   "source": []
  }
 ],
 "metadata": {
  "kernelspec": {
   "display_name": "Python 3 (ipykernel)",
   "language": "python",
   "name": "python3"
  },
  "language_info": {
   "codemirror_mode": {
    "name": "ipython",
    "version": 3
   },
   "file_extension": ".py",
   "mimetype": "text/x-python",
   "name": "python",
   "nbconvert_exporter": "python",
   "pygments_lexer": "ipython3",
   "version": "3.8.12"
  }
 },
 "nbformat": 4,
 "nbformat_minor": 5
}
