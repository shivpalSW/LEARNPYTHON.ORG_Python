{
 "cells": [
  {
   "cell_type": "code",
   "execution_count": 1,
   "id": "603625dc",
   "metadata": {},
   "outputs": [
    {
     "name": "stdout",
     "output_type": "stream",
     "text": [
      "True\n",
      "False\n",
      "True\n"
     ]
    }
   ],
   "source": [
    "x = 2\n",
    "print(x == 2) # prints out True\n",
    "print(x == 3) # prints out False\n",
    "print(x < 3) # prints out True"
   ]
  },
  {
   "cell_type": "code",
   "execution_count": 2,
   "id": "f126448b",
   "metadata": {},
   "outputs": [
    {
     "name": "stdout",
     "output_type": "stream",
     "text": [
      "Your name is John, and you are also 23 years old.\n",
      "Your name is either John or Rick.\n"
     ]
    }
   ],
   "source": [
    "name = \"John\"\n",
    "age = 23\n",
    "\n",
    "if name == \"John\" and age == 23:\n",
    "    print(\"Your name is John, and you are also 23 years old.\")\n",
    "\n",
    "if name == \"John\" or name == \"Rick\":\n",
    "    print(\"Your name is either John or Rick.\")"
   ]
  },
  {
   "cell_type": "code",
   "execution_count": 4,
   "id": "76869927",
   "metadata": {},
   "outputs": [
    {
     "name": "stdout",
     "output_type": "stream",
     "text": [
      "Your Name is either John or Rick.\n"
     ]
    }
   ],
   "source": [
    "name='John'\n",
    " \n",
    "if name in [\"John\", \"Rick\"]:\n",
    "        print(\"Your Name is either John or Rick.\")"
   ]
  },
  {
   "cell_type": "code",
   "execution_count": 11,
   "id": "10355015",
   "metadata": {},
   "outputs": [],
   "source": [
    "statement= False\n",
    "\n",
    "another_statement= True\n",
    "\n",
    "if statement is False:\n",
    "    # do nothing\n",
    "    pass\n",
    "\n",
    "elif another_statement is True: # elif if\n",
    "    # do nothing\n",
    "    pass\n",
    "\n",
    "else:\n",
    "    #do nnothing\n",
    "    print(\"Pass ho Gaya\")"
   ]
  },
  {
   "cell_type": "code",
   "execution_count": 12,
   "id": "5b4b2db8",
   "metadata": {},
   "outputs": [
    {
     "name": "stdout",
     "output_type": "stream",
     "text": [
      "X EQUALS TWO!\n"
     ]
    }
   ],
   "source": [
    "x=2\n",
    "\n",
    "if x==2:\n",
    "    print(\"X EQUALS TWO!\")\n",
    "    \n",
    "else:\n",
    "    print(\"X does not wequals to TWO\")"
   ]
  },
  {
   "cell_type": "code",
   "execution_count": 13,
   "id": "b095a677",
   "metadata": {},
   "outputs": [
    {
     "name": "stdout",
     "output_type": "stream",
     "text": [
      "True\n",
      "False\n"
     ]
    }
   ],
   "source": [
    "x=[1,2,3]\n",
    "y=[1,2,3]\n",
    "\n",
    "print(x==y)# prints out True\n",
    "print( x is y) # prins out false"
   ]
  },
  {
   "cell_type": "code",
   "execution_count": 14,
   "id": "db460d72",
   "metadata": {},
   "outputs": [
    {
     "name": "stdout",
     "output_type": "stream",
     "text": [
      "True\n",
      "False\n"
     ]
    }
   ],
   "source": [
    "print( not False) # prints out true\n",
    "\n",
    "print((not False)==(False)) # prints out False\n"
   ]
  },
  {
   "cell_type": "markdown",
   "id": "9d0f5100",
   "metadata": {},
   "source": [
    "## EXERCISE:"
   ]
  },
  {
   "cell_type": "code",
   "execution_count": 16,
   "id": "0fc365f2",
   "metadata": {},
   "outputs": [
    {
     "name": "stdout",
     "output_type": "stream",
     "text": [
      "1\n",
      "2\n",
      "3\n",
      "4\n",
      "5\n",
      "6\n"
     ]
    }
   ],
   "source": [
    "# change this code\n",
    "number = 19\n",
    "second_number = 0\n",
    "first_array = [1,2,3]\n",
    "second_array = [1,2]\n",
    "\n",
    "if number > 15:\n",
    "    print(\"1\")\n",
    "\n",
    "if first_array:\n",
    "    print(\"2\")\n",
    "\n",
    "if len(second_array) == 2:\n",
    "    print(\"3\")\n",
    "\n",
    "if len(first_array) + len(second_array) == 5:\n",
    "    print(\"4\")\n",
    "\n",
    "if first_array and first_array[0] == 1:\n",
    "    print(\"5\")\n",
    "\n",
    "if not second_number:\n",
    "    print(\"6\")"
   ]
  },
  {
   "cell_type": "code",
   "execution_count": null,
   "id": "b0de8046",
   "metadata": {},
   "outputs": [],
   "source": []
  }
 ],
 "metadata": {
  "kernelspec": {
   "display_name": "Python 3 (ipykernel)",
   "language": "python",
   "name": "python3"
  },
  "language_info": {
   "codemirror_mode": {
    "name": "ipython",
    "version": 3
   },
   "file_extension": ".py",
   "mimetype": "text/x-python",
   "name": "python",
   "nbconvert_exporter": "python",
   "pygments_lexer": "ipython3",
   "version": "3.8.12"
  }
 },
 "nbformat": 4,
 "nbformat_minor": 5
}
