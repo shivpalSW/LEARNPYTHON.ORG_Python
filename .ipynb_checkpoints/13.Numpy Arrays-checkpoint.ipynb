{
 "cells": [
  {
   "cell_type": "markdown",
   "id": "82a13d83",
   "metadata": {},
   "source": [
    "# 13.Numpy Arrays"
   ]
  },
  {
   "cell_type": "code",
   "execution_count": 1,
   "id": "7186eddb",
   "metadata": {},
   "outputs": [],
   "source": [
    "# import the numpy package as np\n",
    "import numpy as np"
   ]
  },
  {
   "cell_type": "code",
   "execution_count": 2,
   "id": "3a81809d",
   "metadata": {},
   "outputs": [
    {
     "name": "stdout",
     "output_type": "stream",
     "text": [
      "[1.87 1.87 1.82 1.91 1.9  1.85]\n",
      "[81.65 97.52 95.25 92.98 86.18 88.45]\n"
     ]
    }
   ],
   "source": [
    "# Create 2 new lists height and weight\n",
    "\n",
    "height = [1.87,  1.87, 1.82, 1.91, 1.90, 1.85]\n",
    "weight = [81.65, 97.52, 95.25, 92.98, 86.18, 88.45]\n",
    "\n",
    "# Create 2 numpy arrays from height and weight\n",
    "\n",
    "np_height = np.array(height)\n",
    "\n",
    "np_weight= np.array(weight)\n",
    "\n",
    "print(np_height)\n",
    "\n",
    "print(np_weight)"
   ]
  },
  {
   "cell_type": "code",
   "execution_count": 3,
   "id": "2576c58e",
   "metadata": {},
   "outputs": [
    {
     "name": "stdout",
     "output_type": "stream",
     "text": [
      "[1.87 1.87 1.82 1.91 1.9  1.85]\n"
     ]
    }
   ],
   "source": [
    "print(np_height)"
   ]
  },
  {
   "cell_type": "code",
   "execution_count": 4,
   "id": "92bb6d32",
   "metadata": {},
   "outputs": [
    {
     "name": "stdout",
     "output_type": "stream",
     "text": [
      "<class 'numpy.ndarray'>\n"
     ]
    }
   ],
   "source": [
    "print(type(np_height))"
   ]
  },
  {
   "cell_type": "markdown",
   "id": "b65ab7dd",
   "metadata": {},
   "source": [
    "## Element wise Calculation:"
   ]
  },
  {
   "cell_type": "code",
   "execution_count": 5,
   "id": "0306711a",
   "metadata": {},
   "outputs": [
    {
     "name": "stdout",
     "output_type": "stream",
     "text": [
      "[23.34925219 27.88755755 28.75558507 25.48723993 23.87257618 25.84368152]\n"
     ]
    }
   ],
   "source": [
    "# calculate BMI\n",
    "bmi=np_weight/np_height**2\n",
    "\n",
    "#print the result\n",
    "\n",
    "print(bmi)"
   ]
  },
  {
   "cell_type": "markdown",
   "id": "a39bf70f",
   "metadata": {},
   "source": [
    "## Subsetting:"
   ]
  },
  {
   "cell_type": "code",
   "execution_count": 6,
   "id": "2d2ebd87",
   "metadata": {},
   "outputs": [
    {
     "name": "stdout",
     "output_type": "stream",
     "text": [
      "[ True  True  True  True  True  True]\n"
     ]
    },
    {
     "data": {
      "text/plain": [
       "array([23.34925219, 27.88755755, 28.75558507, 25.48723993, 23.87257618,\n",
       "       25.84368152])"
      ]
     },
     "execution_count": 6,
     "metadata": {},
     "output_type": "execute_result"
    }
   ],
   "source": [
    "# For a boolean response\n",
    "\n",
    "print(bmi > 23)\n",
    "\n",
    "# Print only those observations above 23\n",
    "bmi[bmi > 23]"
   ]
  },
  {
   "cell_type": "markdown",
   "id": "cac0708f",
   "metadata": {},
   "source": [
    "# Exercise:"
   ]
  },
  {
   "cell_type": "raw",
   "id": "4f803791",
   "metadata": {},
   "source": [
    "First, convert the list of weights from a list to a Numpy array. Then, convert all of the weights from kilograms to pounds. Use the scalar conversion of 2.2 lbs per kilogram to make your conversion. Lastly, print the resulting array of weights in pounds."
   ]
  },
  {
   "cell_type": "code",
   "execution_count": 7,
   "id": "d7100cde",
   "metadata": {},
   "outputs": [
    {
     "name": "stdout",
     "output_type": "stream",
     "text": [
      "[179.63  214.544 209.55  204.556 189.596 194.59 ]\n"
     ]
    }
   ],
   "source": [
    "weight_kg = [81.65, 97.52, 95.25, 92.98, 86.18, 88.45]\n",
    "\n",
    "import numpy as np\n",
    "\n",
    "# Create a numpy array np_weight_kg from weight_kg\n",
    "np_weightKg=np.array(weight_kg)\n",
    "    \n",
    "\n",
    "# Create np_weight_lbs from np_weight_kg\n",
    "np_weightLBS= np_weightKg*2.2\n",
    "\n",
    "\n",
    "# Print out np_weight_lbs\n",
    "\n",
    "print(np_weightLBS)"
   ]
  },
  {
   "cell_type": "code",
   "execution_count": null,
   "id": "021d6d87",
   "metadata": {},
   "outputs": [],
   "source": []
  }
 ],
 "metadata": {
  "kernelspec": {
   "display_name": "Python 3 (ipykernel)",
   "language": "python",
   "name": "python3"
  },
  "language_info": {
   "codemirror_mode": {
    "name": "ipython",
    "version": 3
   },
   "file_extension": ".py",
   "mimetype": "text/x-python",
   "name": "python",
   "nbconvert_exporter": "python",
   "pygments_lexer": "ipython3",
   "version": "3.8.12"
  }
 },
 "nbformat": 4,
 "nbformat_minor": 5
}
