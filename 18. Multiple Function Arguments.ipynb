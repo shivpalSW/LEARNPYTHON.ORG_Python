{
 "cells": [
  {
   "cell_type": "markdown",
   "id": "514f9748",
   "metadata": {},
   "source": [
    "# <center> Multiple Function Arguments"
   ]
  },
  {
   "cell_type": "code",
   "execution_count": null,
   "id": "95e48f7d",
   "metadata": {},
   "outputs": [],
   "source": [
    "# Every function in Python receives a predefined number of arguments, if declared normally, like this:\n",
    "\n",
    "def myfunction(first,second,thired):\n",
    "    # do something with the 3 variables"
   ]
  },
  {
   "cell_type": "raw",
   "id": "91b2f416",
   "metadata": {},
   "source": [
    "It is possible to declare functions which receive a variable number of arguments, using the following syntax:"
   ]
  },
  {
   "cell_type": "code",
   "execution_count": null,
   "id": "8964bd0c",
   "metadata": {},
   "outputs": [],
   "source": [
    "def foo(first,second,thired,*therest):\n",
    "    print('First : %s' % first)\n",
    "    print('Second: %s'% second)\n",
    "    print('Thired: %s'% thired)\n",
    "    print('And all the rest..: %s'% list(therest))"
   ]
  },
  {
   "cell_type": "raw",
   "id": "f5906017",
   "metadata": {},
   "source": [
    "The \"therest\" variable is a list of variables, which receives all arguments which were given to the \"foo\" function after the first 3 arguments. So calling foo(1, 2, 3, 4, 5) will print out:"
   ]
  },
  {
   "cell_type": "code",
   "execution_count": 1,
   "id": "65a95f13",
   "metadata": {},
   "outputs": [
    {
     "name": "stdout",
     "output_type": "stream",
     "text": [
      "First: 1\n",
      "Second: 2\n",
      "Third: 3\n",
      "And all the rest... [4, 5]\n"
     ]
    }
   ],
   "source": [
    "def foo(first, second, third, *therest):\n",
    "    print(\"First: %s\" %(first))\n",
    "    print(\"Second: %s\" %(second))\n",
    "    print(\"Third: %s\" %(third))\n",
    "    print(\"And all the rest... %s\" %(list(therest)))\n",
    "    \n",
    "foo(1,2,3,4,5)"
   ]
  },
  {
   "cell_type": "raw",
   "id": "c03c771a",
   "metadata": {},
   "source": [
    "It is also possible to send functions arguments by keyword, so that the order of the argument does not matter, using the following syntax. The following code yields the following output: The sum is: 6 Result: 1"
   ]
  },
  {
   "cell_type": "code",
   "execution_count": 2,
   "id": "a010f36e",
   "metadata": {},
   "outputs": [
    {
     "name": "stdout",
     "output_type": "stream",
     "text": [
      "The sum is : 6\n",
      "Result : 1\n"
     ]
    }
   ],
   "source": [
    "def bar(first,second,third,**options):\n",
    "    if options.get('Action')=='sum':\n",
    "        print('The sum is : %d' %(first + second +third))\n",
    "        \n",
    "    if options.get('number')==\"first\":\n",
    "        return first\n",
    "\n",
    "result= bar(1,2,3,Action='sum',number='first')\n",
    "print('Result : %d' %(result))"
   ]
  },
  {
   "cell_type": "markdown",
   "id": "c3d9cc67",
   "metadata": {},
   "source": [
    "## Exercise"
   ]
  },
  {
   "cell_type": "raw",
   "id": "87d1807d",
   "metadata": {},
   "source": [
    "Fill in the 'foo' and 'bar' functions so they can receive a variable amount of arguments (3 or more) The foo function must return the amount of extra arguments received. The bar must return True if the argument with the keyword magicnumber is worth 7, and False otherwise."
   ]
  },
  {
   "cell_type": "code",
   "execution_count": 8,
   "id": "cc47ef65",
   "metadata": {},
   "outputs": [
    {
     "name": "stdout",
     "output_type": "stream",
     "text": [
      "Good.\n",
      "Better.\n",
      "Great.\n",
      "Awesome!\n"
     ]
    }
   ],
   "source": [
    "# edit the functions prototype and implementation\n",
    "\n",
    "def foo(a, b, c,*args):\n",
    "    return len(args)\n",
    "\n",
    "def bar(a, b, c,**kwargs):\n",
    "    return kwargs['magicnumber']==7\n",
    "\n",
    "\n",
    "# test code\n",
    "if foo(1, 2, 3, 4) == 1:\n",
    "    print(\"Good.\")\n",
    "if foo(1, 2, 3, 4, 5) == 2:\n",
    "    print(\"Better.\")\n",
    "if bar(1, 2, 3, magicnumber=6) == False:\n",
    "    print(\"Great.\")\n",
    "if bar(1, 2, 3, magicnumber=7) == True:\n",
    "    print(\"Awesome!\")"
   ]
  },
  {
   "cell_type": "code",
   "execution_count": null,
   "id": "6adab72a",
   "metadata": {},
   "outputs": [],
   "source": []
  }
 ],
 "metadata": {
  "kernelspec": {
   "display_name": "Python 3 (ipykernel)",
   "language": "python",
   "name": "python3"
  },
  "language_info": {
   "codemirror_mode": {
    "name": "ipython",
    "version": 3
   },
   "file_extension": ".py",
   "mimetype": "text/x-python",
   "name": "python",
   "nbconvert_exporter": "python",
   "pygments_lexer": "ipython3",
   "version": "3.8.12"
  }
 },
 "nbformat": 4,
 "nbformat_minor": 5
}
