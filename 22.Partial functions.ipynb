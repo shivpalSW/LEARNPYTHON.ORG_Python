{
 "cells": [
  {
   "cell_type": "markdown",
   "id": "6cd63740",
   "metadata": {},
   "source": [
    "# 22.Partial functions"
   ]
  },
  {
   "cell_type": "code",
   "execution_count": 1,
   "id": "3a271a42",
   "metadata": {},
   "outputs": [],
   "source": [
    "from functools import partial"
   ]
  },
  {
   "cell_type": "code",
   "execution_count": 2,
   "id": "08a8ada5",
   "metadata": {},
   "outputs": [
    {
     "name": "stdout",
     "output_type": "stream",
     "text": [
      "8\n"
     ]
    }
   ],
   "source": [
    "from functools import partial\n",
    "\n",
    "def multiply(x, y):\n",
    "        return x * y\n",
    "\n",
    "# create a new function that multiplies by 2\n",
    "dbl = partial(multiply, 2)\n",
    "print(dbl(4))"
   ]
  },
  {
   "cell_type": "raw",
   "id": "de68820a",
   "metadata": {},
   "source": [
    "Exercise"
   ]
  },
  {
   "cell_type": "code",
   "execution_count": 5,
   "id": "f20fae03",
   "metadata": {},
   "outputs": [
    {
     "name": "stdout",
     "output_type": "stream",
     "text": [
      "60\n"
     ]
    }
   ],
   "source": [
    "from functools import partial\n",
    "def function(u, v, w, x):\n",
    "    return u*4 + v*3 + w*2 + x\n",
    "\n",
    "patf = partial(function,5,6,7)\n",
    "print(patf(8))"
   ]
  },
  {
   "cell_type": "code",
   "execution_count": null,
   "id": "e8671488",
   "metadata": {},
   "outputs": [],
   "source": []
  }
 ],
 "metadata": {
  "kernelspec": {
   "display_name": "Python 3 (ipykernel)",
   "language": "python",
   "name": "python3"
  },
  "language_info": {
   "codemirror_mode": {
    "name": "ipython",
    "version": 3
   },
   "file_extension": ".py",
   "mimetype": "text/x-python",
   "name": "python",
   "nbconvert_exporter": "python",
   "pygments_lexer": "ipython3",
   "version": "3.8.12"
  }
 },
 "nbformat": 4,
 "nbformat_minor": 5
}
