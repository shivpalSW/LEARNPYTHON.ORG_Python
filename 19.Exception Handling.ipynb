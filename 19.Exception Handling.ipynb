{
 "cells": [
  {
   "cell_type": "markdown",
   "id": "86777a54",
   "metadata": {},
   "source": [
    "# <center> 19.Exception Handling"
   ]
  },
  {
   "cell_type": "raw",
   "id": "1711628e",
   "metadata": {},
   "source": [
    "\n",
    "When programming, errors happen. It's just a fact of life. Perhaps the user gave bad input. Maybe a network resource was unavailable. Maybe the program ran out of memory. Or the programmer may have even made a mistake!\n",
    "\n",
    "Python's solution to errors are exceptions. You might have seen an exception before.\n"
   ]
  },
  {
   "cell_type": "code",
   "execution_count": 1,
   "id": "41233a10",
   "metadata": {},
   "outputs": [
    {
     "ename": "SyntaxError",
     "evalue": "invalid syntax (Temp/ipykernel_11012/2948000698.py, line 4)",
     "output_type": "error",
     "traceback": [
      "\u001b[1;36m  File \u001b[1;32m\"C:\\Users\\wshru\\AppData\\Local\\Temp/ipykernel_11012/2948000698.py\"\u001b[1;36m, line \u001b[1;32m4\u001b[0m\n\u001b[1;33m    Traceback (most recent call last):\u001b[0m\n\u001b[1;37m                    ^\u001b[0m\n\u001b[1;31mSyntaxError\u001b[0m\u001b[1;31m:\u001b[0m invalid syntax\n"
     ]
    }
   ],
   "source": [
    "print(a)\n",
    "\n",
    "#error\n",
    "Traceback (most recent call last):\n",
    "  File \"<stdin>\", line 1, in <module>\n",
    "NameError: name 'a' is not defined\n",
    "</module></stdin>"
   ]
  },
  {
   "cell_type": "raw",
   "id": "bea4eb75",
   "metadata": {},
   "source": [
    "Oops! Forgot to assign a value to the 'a' variable.\n",
    "\n",
    "But sometimes you don't want exceptions to completely stop the program. You might want to do something special when an exception is raised. This is done in a try/except block.\n",
    "\n",
    "Here's a trivial example: Suppose you're iterating over a list. You need to iterate over 20 numbers, but the list is made from user input, and might not have 20 numbers in it. After you reach the end of the list, you just want the rest of the numbers to be interpreted as a 0. Here's how you could do that:"
   ]
  },
  {
   "cell_type": "code",
   "execution_count": 3,
   "id": "613a73e6",
   "metadata": {},
   "outputs": [
    {
     "name": "stdout",
     "output_type": "stream",
     "text": [
      "1\n",
      "2\n",
      "3\n",
      "4\n",
      "5\n",
      "0\n",
      "0\n",
      "0\n",
      "0\n",
      "0\n",
      "0\n",
      "0\n",
      "0\n",
      "0\n",
      "0\n",
      "0\n",
      "0\n",
      "0\n",
      "0\n",
      "0\n"
     ]
    }
   ],
   "source": [
    "def do_stuff_with_number(n):\n",
    "    print(n)\n",
    "\n",
    "def catch_this():\n",
    "    the_list = (1, 2, 3, 4, 5)\n",
    "\n",
    "    for i in range(20):\n",
    "        try:\n",
    "            do_stuff_with_number(the_list[i])\n",
    "        except IndexError: # Raised when accessing a non-existing index of a list\n",
    "            do_stuff_with_number(0)\n",
    "\n",
    "catch_this()"
   ]
  },
  {
   "cell_type": "markdown",
   "id": "cbfeaac6",
   "metadata": {},
   "source": [
    "## Exercise "
   ]
  },
  {
   "cell_type": "code",
   "execution_count": null,
   "id": "085cb39f",
   "metadata": {},
   "outputs": [],
   "source": [
    "Handle all the exception! Think back to the previous lessons to return the last name of the actor."
   ]
  },
  {
   "cell_type": "code",
   "execution_count": 6,
   "id": "5b3f68d0",
   "metadata": {},
   "outputs": [
    {
     "name": "stdout",
     "output_type": "stream",
     "text": [
      "All exceptions caught! Good job!\n",
      "The actor's last name is Cleese\n"
     ]
    }
   ],
   "source": [
    "# Setup\n",
    "actor = {\"name\": \"John Cleese\", \"rank\": \"awesome\"}\n",
    "\n",
    "# Function to modify!!!\n",
    "def get_last_name(): \n",
    "    return actor[\"name\"].split()[1]\n",
    "\n",
    "# Test code\n",
    "get_last_name()\n",
    "print(\"All exceptions caught! Good job!\")\n",
    "print(\"The actor's last name is %s\" % get_last_name())"
   ]
  },
  {
   "cell_type": "code",
   "execution_count": null,
   "id": "51ae4bc4",
   "metadata": {},
   "outputs": [],
   "source": []
  }
 ],
 "metadata": {
  "kernelspec": {
   "display_name": "Python 3 (ipykernel)",
   "language": "python",
   "name": "python3"
  },
  "language_info": {
   "codemirror_mode": {
    "name": "ipython",
    "version": 3
   },
   "file_extension": ".py",
   "mimetype": "text/x-python",
   "name": "python",
   "nbconvert_exporter": "python",
   "pygments_lexer": "ipython3",
   "version": "3.8.12"
  }
 },
 "nbformat": 4,
 "nbformat_minor": 5
}
