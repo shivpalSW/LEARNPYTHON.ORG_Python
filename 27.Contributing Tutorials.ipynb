{
 "cells": [
  {
   "cell_type": "markdown",
   "id": "911d1b29",
   "metadata": {},
   "source": [
    "https://www.learnpython.org/en/Contributing_Tutorials"
   ]
  },
  {
   "cell_type": "code",
   "execution_count": null,
   "id": "3157b984",
   "metadata": {},
   "outputs": [],
   "source": [
    "Tutorial\n",
    "--------\n",
    "Here you may write text that explains a certain feature.\n",
    "\n",
    "Exercise\n",
    "--------\n",
    "Here you will need to write the purpose of the exercise. Finishing the exercise correctly\n",
    "must be accomplished using the new feature that you are explaining.\n",
    "\n",
    "Tutorial Code\n",
    "-------------\n",
    "Write a code block that will appear on the interpreter window. For example, you may\n",
    "write an empty function, which the user must complete in order to finish the exercise.\n",
    "\n",
    "Expected Output\n",
    "---------------\n",
    "Write a code block that will describe the exact output expected from the modified code,\n",
    "if it has been modified correctly.\n",
    "\n",
    "Solution\n",
    "--------\n",
    "Write the solution code to the problem."
   ]
  },
  {
   "cell_type": "code",
   "execution_count": null,
   "id": "1afde584",
   "metadata": {},
   "outputs": [],
   "source": []
  }
 ],
 "metadata": {
  "kernelspec": {
   "display_name": "Python 3 (ipykernel)",
   "language": "python",
   "name": "python3"
  },
  "language_info": {
   "codemirror_mode": {
    "name": "ipython",
    "version": 3
   },
   "file_extension": ".py",
   "mimetype": "text/x-python",
   "name": "python",
   "nbconvert_exporter": "python",
   "pygments_lexer": "ipython3",
   "version": "3.8.12"
  }
 },
 "nbformat": 4,
 "nbformat_minor": 5
}
