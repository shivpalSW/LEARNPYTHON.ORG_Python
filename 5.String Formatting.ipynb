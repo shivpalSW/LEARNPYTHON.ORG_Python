{
 "cells": [
  {
   "cell_type": "markdown",
   "id": "f6ef8039",
   "metadata": {},
   "source": [
    "# 5.String Formatting"
   ]
  },
  {
   "cell_type": "raw",
   "id": "7a28e846",
   "metadata": {},
   "source": [
    "Python uses C-style string formatting to create new, formatted strings. The \"%\" operator is used to format a set of variables enclosed in a \"tuple\" (a fixed size list), together with a format string, which contains normal text together with \"argument specifiers\", special symbols like \"%s\" and \"%d\".\n",
    "\n",
    "Let's say you have a variable called \"name\" with your user name in it, and you would then like to print(out a greeting to that user.)"
   ]
  },
  {
   "cell_type": "code",
   "execution_count": 3,
   "id": "264761ef",
   "metadata": {},
   "outputs": [
    {
     "name": "stdout",
     "output_type": "stream",
     "text": [
      "Hello,John!\n"
     ]
    }
   ],
   "source": [
    "# This prints out\"Hello,John!\"\n",
    "\n",
    "name= \"John\"\n",
    "\n",
    "print(\"Hello,%s!\" %(name))"
   ]
  },
  {
   "cell_type": "code",
   "execution_count": 4,
   "id": "7d5b5502",
   "metadata": {},
   "outputs": [
    {
     "name": "stdout",
     "output_type": "stream",
     "text": [
      "John is 23 years old.\n"
     ]
    }
   ],
   "source": [
    "name=\"John\"\n",
    "age= 23 \n",
    "\n",
    "print(\"%s is %d years old.\"% (name,age))"
   ]
  },
  {
   "cell_type": "code",
   "execution_count": 8,
   "id": "36d42165",
   "metadata": {},
   "outputs": [
    {
     "name": "stdout",
     "output_type": "stream",
     "text": [
      "John is 23 yeas old.\n"
     ]
    }
   ],
   "source": [
    "name=\"John\"\n",
    "age= 23 \n",
    "\n",
    "print(f\"{name} is {age} yeas old.\")"
   ]
  },
  {
   "cell_type": "code",
   "execution_count": 11,
   "id": "ac7b5a08",
   "metadata": {},
   "outputs": [
    {
     "name": "stdout",
     "output_type": "stream",
     "text": [
      "A list is : [1, 2, 3] \n"
     ]
    }
   ],
   "source": [
    "# This prints out: A list: [1, 2, 3]\n",
    "mylist = [1,2,3]\n",
    "\n",
    "print(\"A list is : %s \" % mylist)"
   ]
  },
  {
   "cell_type": "code",
   "execution_count": null,
   "id": "b2722f85",
   "metadata": {},
   "outputs": [],
   "source": [
    "Here are some basic argument specifiers you should know:\n",
    "\n",
    "%s - String (or any object with a string representation, like numbers)\n",
    "\n",
    "%d - Integers\n",
    "\n",
    "%f - Floating point numbers\n",
    "\n",
    "%.<number of digits>f - Floating point numbers with a fixed amount of digits to the right of the dot.\n",
    "\n",
    "%x/%X - Integers in hex representation (lowercase/uppercase)"
   ]
  },
  {
   "cell_type": "markdown",
   "id": "16729bd5",
   "metadata": {},
   "source": [
    "## Exercise"
   ]
  },
  {
   "cell_type": "raw",
   "id": "d5d02dc0",
   "metadata": {},
   "source": [
    "You will need to write a format string which prints out the data using the following syntax: \n",
    "\n",
    "Hello John Doe. Your current balance is $53.44."
   ]
  },
  {
   "cell_type": "code",
   "execution_count": 45,
   "id": "0f10dadc",
   "metadata": {},
   "outputs": [
    {
     "name": "stdout",
     "output_type": "stream",
     "text": [
      "Hello John Doe.Your current balance is $53.44.\n"
     ]
    }
   ],
   "source": [
    "data= (\"John\",\"Doe\",53.44)\n",
    "\n",
    "format_string= \"Hello %s %s.Your current balance is $%s.\"\n",
    "\n",
    "print(format_string %data)"
   ]
  },
  {
   "cell_type": "code",
   "execution_count": null,
   "id": "70dac45b",
   "metadata": {},
   "outputs": [],
   "source": []
  }
 ],
 "metadata": {
  "kernelspec": {
   "display_name": "Python 3 (ipykernel)",
   "language": "python",
   "name": "python3"
  },
  "language_info": {
   "codemirror_mode": {
    "name": "ipython",
    "version": 3
   },
   "file_extension": ".py",
   "mimetype": "text/x-python",
   "name": "python",
   "nbconvert_exporter": "python",
   "pygments_lexer": "ipython3",
   "version": "3.8.12"
  }
 },
 "nbformat": 4,
 "nbformat_minor": 5
}
