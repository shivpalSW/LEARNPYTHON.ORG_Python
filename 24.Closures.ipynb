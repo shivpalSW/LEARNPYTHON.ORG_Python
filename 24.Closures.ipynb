{
 "cells": [
  {
   "cell_type": "markdown",
   "id": "2ce52e1f",
   "metadata": {},
   "source": [
    "# 24.Closures"
   ]
  },
  {
   "cell_type": "raw",
   "id": "09ae5d05",
   "metadata": {},
   "source": [
    "A Closure is a function object that remembers values in enclosing scopes even if they are not present in memory. Let us get to it step by step\n",
    "\n",
    "Firstly, a Nested Function is a function defined inside another function. It's very important to note that the nested functions can access the variables of the enclosing scope. However, at least in python, they are only readonly. However, one can use the \"nonlocal\" keyword explicitly with these variables in order to modify them."
   ]
  },
  {
   "cell_type": "code",
   "execution_count": 1,
   "id": "2a46a55f",
   "metadata": {},
   "outputs": [
    {
     "name": "stdout",
     "output_type": "stream",
     "text": [
      "Test message\n",
      "None\n"
     ]
    }
   ],
   "source": [
    "def transmit_to_space(message):\n",
    "    \"This is the enclosing function\"\n",
    "    \n",
    "    def data_transmitter():\n",
    "        \"The nested function\"\n",
    "        print(message)\n",
    "\n",
    "    data_transmitter()\n",
    "\n",
    "print(transmit_to_space(\"Test message\"))"
   ]
  },
  {
   "cell_type": "raw",
   "id": "25c15bcb",
   "metadata": {},
   "source": [
    "This works well as the 'data_transmitter' function can access the 'message'. To demonstrate the use of the \"nonlocal\" keyword, consider this\n"
   ]
  },
  {
   "cell_type": "code",
   "execution_count": 2,
   "id": "818c2dda",
   "metadata": {},
   "outputs": [
    {
     "name": "stdout",
     "output_type": "stream",
     "text": [
      "3\n",
      "3\n"
     ]
    }
   ],
   "source": [
    "def print_msg(number):\n",
    "    \n",
    "    def printer():\n",
    "        \"Here we are using the nonlocal keyword\"\n",
    "        nonlocal number\n",
    "        number=3\n",
    "        print(number)\n",
    "    printer()\n",
    "    print(number)\n",
    "\n",
    "print_msg(9)"
   ]
  },
  {
   "cell_type": "raw",
   "id": "0ef971e1",
   "metadata": {},
   "source": [
    "Without the nonlocal keyword, the output would be \"3 9\", however, with its usage, we get \"3 3\", that is the value of the \"number\" variable gets modified.\n",
    "\n",
    "Now, how about we return the function object rather than calling the nested function within. (Remember that even functions are objects. (It's Python.))"
   ]
  },
  {
   "cell_type": "code",
   "execution_count": 3,
   "id": "7e8ca0ed",
   "metadata": {},
   "outputs": [],
   "source": [
    "def transmit_to_space(message):\n",
    "    \"This is the enclosing function\"\n",
    "    def data_transmitter():\n",
    "        \"The nested function\"\n",
    "        print(message)\n",
    "    return data_transmitter"
   ]
  },
  {
   "cell_type": "raw",
   "id": "04323f84",
   "metadata": {},
   "source": [
    "And we call the function as follows:"
   ]
  },
  {
   "cell_type": "code",
   "execution_count": 5,
   "id": "48a2234f",
   "metadata": {},
   "outputs": [
    {
     "name": "stdout",
     "output_type": "stream",
     "text": [
      "Burn the Sun!\n"
     ]
    }
   ],
   "source": [
    "def transmit_to_space(message):\n",
    "    \"This is the enclosing function\"\n",
    "    def data_transmitter():\n",
    "        \"The nested function\"\n",
    "        print(message)\n",
    "    return data_transmitter\n",
    "\n",
    "fun2 = transmit_to_space(\"Burn the Sun!\")\n",
    "fun2()"
   ]
  },
  {
   "cell_type": "raw",
   "id": "ab553aec",
   "metadata": {},
   "source": [
    "Even though the execution of the \"transmit_to_space()\" was completed, the message was rather preserved. This technique by which the data is attached to some code even after end of those other original functions is called as closures in python\n",
    "\n",
    "ADVANTAGE : Closures can avoid use of global variables and provides some form of data hiding.(Eg. When there are few methods in a class, use closures instead).\n",
    "\n",
    "Also, Decorators in Python make extensive use of closures."
   ]
  },
  {
   "cell_type": "raw",
   "id": "ee3d9d71",
   "metadata": {},
   "source": [
    "## Exercise"
   ]
  },
  {
   "cell_type": "raw",
   "id": "392beb3d",
   "metadata": {},
   "source": [
    "# your code goes here\n",
    "\n",
    "multiplywith5 = multiplier_of(5)\n",
    "multiplywith5(9)Make a nested loop and a python closure to make functions to get multiple multiplication functions using closures. That is using closures, one could make functions to create multiply_with_5() or multiply_with_4() functions using closures."
   ]
  },
  {
   "cell_type": "code",
   "execution_count": 8,
   "id": "c70476b0",
   "metadata": {},
   "outputs": [
    {
     "data": {
      "text/plain": [
       "45"
      ]
     },
     "execution_count": 8,
     "metadata": {},
     "output_type": "execute_result"
    }
   ],
   "source": [
    "# your code goes here\n",
    "\n",
    "def multiplier_of(n):\n",
    "    \n",
    "    def multiplier(number):\n",
    "        return number*n \n",
    "    return multiplier\n",
    "\n",
    "multiplywith5 = multiplier_of(5)\n",
    "multiplywith5(9)"
   ]
  },
  {
   "cell_type": "code",
   "execution_count": null,
   "id": "45fe2e9a",
   "metadata": {},
   "outputs": [],
   "source": []
  }
 ],
 "metadata": {
  "kernelspec": {
   "display_name": "Python 3 (ipykernel)",
   "language": "python",
   "name": "python3"
  },
  "language_info": {
   "codemirror_mode": {
    "name": "ipython",
    "version": 3
   },
   "file_extension": ".py",
   "mimetype": "text/x-python",
   "name": "python",
   "nbconvert_exporter": "python",
   "pygments_lexer": "ipython3",
   "version": "3.8.12"
  }
 },
 "nbformat": 4,
 "nbformat_minor": 5
}
