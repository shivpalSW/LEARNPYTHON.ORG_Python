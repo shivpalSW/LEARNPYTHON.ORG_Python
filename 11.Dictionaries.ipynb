{
 "cells": [
  {
   "cell_type": "markdown",
   "id": "8e10786f",
   "metadata": {},
   "source": [
    "# Dictionaries"
   ]
  },
  {
   "cell_type": "code",
   "execution_count": 1,
   "id": "43cc7fe4",
   "metadata": {},
   "outputs": [
    {
     "name": "stdout",
     "output_type": "stream",
     "text": [
      "{'John': 938477566, 'Jack': 938377264, 'Jill': 947662781}\n"
     ]
    }
   ],
   "source": [
    "phonebook={}\n",
    "\n",
    "phonebook['John']=938477566\n",
    "phonebook['Jack']=938377264\n",
    "phonebook['Jill']=947662781\n",
    "print(phonebook)\n"
   ]
  },
  {
   "cell_type": "code",
   "execution_count": 3,
   "id": "e481c9e3",
   "metadata": {},
   "outputs": [
    {
     "name": "stdout",
     "output_type": "stream",
     "text": [
      "{'John': 938477566, 'Jack': 938377264, 'Jill': 947662781}\n"
     ]
    }
   ],
   "source": [
    "# Alternatively, a dictionary can be initialized with the same values in the following notation:\n",
    "\n",
    "phonebook={\"John\":938477566,\n",
    "           'Jack':938377264,\n",
    "           'Jill':947662781}\n",
    "\n",
    "print(phonebook)"
   ]
  },
  {
   "cell_type": "markdown",
   "id": "c4a53c00",
   "metadata": {},
   "source": [
    "# Iterating over dictionaries"
   ]
  },
  {
   "cell_type": "raw",
   "id": "6c399bc9",
   "metadata": {},
   "source": [
    "# Dictionaries can be iterated over, just like a list. However, a dictionary, unlike a list, does not keep the order of the values stored in it. To iterate over key value pairs, use the following syntax:\n"
   ]
  },
  {
   "cell_type": "code",
   "execution_count": 4,
   "id": "261b971a",
   "metadata": {},
   "outputs": [
    {
     "name": "stdout",
     "output_type": "stream",
     "text": [
      "phone number of John is 938477566\n",
      "phone number of Jack is 938377264\n",
      "phone number of Jill is 947662781\n"
     ]
    }
   ],
   "source": [
    "phonebook={\"John\":938477566,\n",
    "           'Jack':938377264,\n",
    "           'Jill':947662781}\n",
    "\n",
    "for name,value in phonebook.items():\n",
    "    print(\"phone number of %s is %d\" %(name,value))"
   ]
  },
  {
   "cell_type": "markdown",
   "id": "00524076",
   "metadata": {},
   "source": [
    "# Removing a value"
   ]
  },
  {
   "cell_type": "raw",
   "id": "8c3f03d6",
   "metadata": {},
   "source": [
    "To remove a specified index, use either one of the following notations:"
   ]
  },
  {
   "cell_type": "code",
   "execution_count": 6,
   "id": "3dae5d55",
   "metadata": {},
   "outputs": [
    {
     "name": "stdout",
     "output_type": "stream",
     "text": [
      "{'Jack': 938377264, 'Jill': 947662781}\n"
     ]
    }
   ],
   "source": [
    "phonebook={\"John\":938477566,\n",
    "           'Jack':938377264,\n",
    "           'Jill':947662781}\n",
    "\n",
    "del phonebook['John']\n",
    "print(phonebook)"
   ]
  },
  {
   "cell_type": "code",
   "execution_count": 9,
   "id": "0dd0c3b5",
   "metadata": {},
   "outputs": [
    {
     "name": "stdout",
     "output_type": "stream",
     "text": [
      "{'Jack': 938377264, 'Jill': 947662781}\n"
     ]
    }
   ],
   "source": [
    "# Or Removing an item using \"POP\" Function\n",
    "\n",
    "phonebook={\"John\":938477566,\n",
    "           'Jack':938377264,\n",
    "           'Jill':947662781}\n",
    "\n",
    "phonebook.pop('John')\n",
    "print(phonebook)"
   ]
  },
  {
   "cell_type": "markdown",
   "id": "4d8d889f",
   "metadata": {},
   "source": [
    "# Exercise:"
   ]
  },
  {
   "cell_type": "raw",
   "id": "851bd39d",
   "metadata": {},
   "source": [
    "Add \"Jake\" to the phonebook with the phone number 938273443, and remove Jill from the phonebook."
   ]
  },
  {
   "cell_type": "code",
   "execution_count": 11,
   "id": "8a1826ec",
   "metadata": {},
   "outputs": [
    {
     "name": "stdout",
     "output_type": "stream",
     "text": [
      "Jake is listed in the phonebook.\n",
      "Jill is not listed in the phonebook.\n"
     ]
    }
   ],
   "source": [
    "phonebook = {  \n",
    "    \"John\" : 938477566,\n",
    "    \"Jack\" : 938377264,\n",
    "    \"Jill\" : 947662781\n",
    "}  \n",
    "# your code goes here\n",
    "\n",
    "phonebook['Jake']= 938273443\n",
    "phonebook.pop('Jill')\n",
    "# Or del phonebook['Jill']\n",
    "\n",
    "# testing code\n",
    "if \"Jake\" in phonebook:  \n",
    "    print(\"Jake is listed in the phonebook.\")\n",
    "    \n",
    "if \"Jill\" not in phonebook:      \n",
    "    print(\"Jill is not listed in the phonebook.\")  "
   ]
  },
  {
   "cell_type": "code",
   "execution_count": null,
   "id": "c5aea540",
   "metadata": {},
   "outputs": [],
   "source": []
  }
 ],
 "metadata": {
  "kernelspec": {
   "display_name": "Python 3 (ipykernel)",
   "language": "python",
   "name": "python3"
  },
  "language_info": {
   "codemirror_mode": {
    "name": "ipython",
    "version": 3
   },
   "file_extension": ".py",
   "mimetype": "text/x-python",
   "name": "python",
   "nbconvert_exporter": "python",
   "pygments_lexer": "ipython3",
   "version": "3.8.12"
  }
 },
 "nbformat": 4,
 "nbformat_minor": 5
}
